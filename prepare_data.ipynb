{
 "cells": [
  {
   "cell_type": "code",
   "execution_count": null,
   "metadata": {},
   "outputs": [],
   "source": [
    "%load_ext autoreload\n",
    "%autoreload 2"
   ]
  },
  {
   "cell_type": "code",
   "execution_count": null,
   "metadata": {},
   "outputs": [],
   "source": [
    "pip install -r requirements.txt\n"
   ]
  },
  {
   "cell_type": "markdown",
   "metadata": {},
   "source": [
    "Explore stock market dataset from Yahoo Finance"
   ]
  },
  {
   "cell_type": "code",
   "execution_count": null,
   "metadata": {},
   "outputs": [],
   "source": [
    "import yfinance as yf\n",
    "import pandas as pd\n"
   ]
  },
  {
   "cell_type": "markdown",
   "metadata": {},
   "source": [
    "## Prepare broad market indicies"
   ]
  },
  {
   "cell_type": "code",
   "execution_count": null,
   "metadata": {},
   "outputs": [],
   "source": [
    "# Capture S&P500, NASDAQ100 and Russell 200 indecies and their equal weighted counter parts\n",
    "# As well as VIX volatility index, DYX US Dollar index and TNX US 10 Year Treasuries Rate Index\n",
    "broad_market_indicies = '^SPX ^SPXEW ^NDX ^NDXE ^RUT ^R2ESC ^VIX DX-Y.NYB ^TNX'"
   ]
  },
  {
   "cell_type": "code",
   "execution_count": null,
   "metadata": {},
   "outputs": [],
   "source": [
    "broad_market = yf.download(broad_market_indicies, period='max', group_by='tickers') \n",
    "broad_market"
   ]
  },
  {
   "cell_type": "code",
   "execution_count": null,
   "metadata": {},
   "outputs": [],
   "source": [
    "broad_market.to_csv('data/broad_market.csv.bz2', index='Date')"
   ]
  },
  {
   "cell_type": "markdown",
   "metadata": {},
   "source": [
    "## Prepare Sector Indicies"
   ]
  },
  {
   "cell_type": "code",
   "execution_count": null,
   "metadata": {},
   "outputs": [],
   "source": [
    "sector_indicies = 'XLE ^SP500-15 ^SP500-20 ^SP500-25 ^SP500-30 ^SP500-35 ^SP500-40 ^SP500-45 ^SP500-50 ^SP500-55 ^SP500-60'"
   ]
  },
  {
   "cell_type": "code",
   "execution_count": null,
   "metadata": {},
   "outputs": [],
   "source": [
    "sectors = yf.download(sector_indicies, period='max') \n",
    "sectors"
   ]
  },
  {
   "cell_type": "code",
   "execution_count": null,
   "metadata": {},
   "outputs": [],
   "source": [
    "sectors.to_csv('data/sectors.csv.bz2')"
   ]
  },
  {
   "cell_type": "markdown",
   "metadata": {},
   "source": [
    "## Load list of IBD Growth Stocks"
   ]
  },
  {
   "cell_type": "code",
   "execution_count": null,
   "metadata": {},
   "outputs": [],
   "source": [
    "\n",
    "ibd50 = pd.read_csv('data/IBD50.csv')\n",
    "ibd50\n"
   ]
  },
  {
   "cell_type": "code",
   "execution_count": null,
   "metadata": {},
   "outputs": [],
   "source": [
    "ibd250 = pd.read_csv('data/IBD250.csv')\n",
    "ibd250"
   ]
  },
  {
   "cell_type": "code",
   "execution_count": null,
   "metadata": {},
   "outputs": [],
   "source": [
    "# merge IBD 50 and 250 symbol sets\n",
    "ibd50_set = set(ibd50['Symbol'])\n",
    "ibd250_set = set(ibd250['Symbol'])\n",
    "ibd_growth_set = ibd50_set.union(ibd250_set)"
   ]
  },
  {
   "cell_type": "code",
   "execution_count": null,
   "metadata": {},
   "outputs": [],
   "source": [
    "len(ibd_growth_set)"
   ]
  },
  {
   "cell_type": "code",
   "execution_count": null,
   "metadata": {},
   "outputs": [],
   "source": [
    "ibdgrowth_str = ' '.join(ibd_growth_set)\n",
    "ibdgrowth_str\n",
    "\n"
   ]
  },
  {
   "cell_type": "code",
   "execution_count": null,
   "metadata": {},
   "outputs": [],
   "source": [
    "stocks_ticker_set = ibd_growth_set"
   ]
  },
  {
   "cell_type": "markdown",
   "metadata": {},
   "source": [
    "## Prepare stocks price data"
   ]
  },
  {
   "cell_type": "code",
   "execution_count": null,
   "metadata": {},
   "outputs": [],
   "source": []
  },
  {
   "cell_type": "code",
   "execution_count": null,
   "metadata": {},
   "outputs": [],
   "source": [
    "ibdgrowth_data = yf.download(ibdgrowth_str, period='max', group_by='tickers') \n",
    "ibdgrowth_data"
   ]
  },
  {
   "cell_type": "code",
   "execution_count": null,
   "metadata": {},
   "outputs": [],
   "source": [
    "ibdgrowth_data.columns.levels"
   ]
  },
  {
   "cell_type": "code",
   "execution_count": null,
   "metadata": {},
   "outputs": [],
   "source": [
    "ibdgrowth_data.to_csv('data/ibdgrowth_hist.csv.bz2', index='Date')"
   ]
  },
  {
   "cell_type": "code",
   "execution_count": null,
   "metadata": {},
   "outputs": [],
   "source": [
    "ibdgrowth_loaded = pd.read_csv('data/ibdgrowth_hist.csv.bz2', header=[0, 1], index_col=0)\n",
    "ibdgrowth_loaded"
   ]
  },
  {
   "cell_type": "code",
   "execution_count": null,
   "metadata": {},
   "outputs": [],
   "source": [
    "for ticker in ibdgrowth_loaded.columns.levels[0][:2]:\n",
    "    print(f'ticker: {ticker}')\n",
    "    ticker_data = ibdgrowth_loaded[ticker]\n",
    "    print(f'ticker historic data: {ticker_data}')\n",
    "    # remove missing values\n",
    "    ticker_data = ticker_data.dropna()\n",
    "    print(f'ticker historic data without missing data: {ticker_data}')\n"
   ]
  },
  {
   "cell_type": "markdown",
   "metadata": {},
   "source": [
    "## Prepare historical stock sales and earnings data"
   ]
  },
  {
   "cell_type": "code",
   "execution_count": null,
   "metadata": {},
   "outputs": [],
   "source": [
    "from dotenv import load_dotenv\n",
    "import os\n",
    "\n",
    "load_dotenv()\n",
    "\n",
    "FMP_API_KEY=os.getenv(\"FMP_API_KEY\")\n",
    "\n",
    "print(f'FMP_API_KEY={FMP_API_KEY!= None}')"
   ]
  },
  {
   "cell_type": "code",
   "execution_count": null,
   "metadata": {},
   "outputs": [],
   "source": [
    "import fmpsdk\n",
    "\n",
    "# Company Valuation Methods\n",
    "symbol: str = \"AAPL\"\n",
    "symbols: [\"AAPL\", \"CSCO\", \"QQQQ\"]\n",
    "exchange: str = \"NYSE\"\n",
    "exchanges: [\"NYSE\", \"NASDAQ\"]\n",
    "query: str = \"AA\"\n",
    "limit: int = 3\n",
    "period: str = \"quarter\"\n",
    "download: bool = True\n",
    "market_cap_more_than: int = 1000000000\n",
    "beta_more_than: int = 1\n",
    "volume_more_than: int = 10000\n",
    "sector: str = \"Technology\"\n",
    "dividend_more_than: int = 0\n",
    "industry: str = \"Software\"\n",
    "filing_type: str = \"10-K\"\n",
    "print(f\"Company Profile: {fmpsdk.company_profile(apikey=FMP_API_KEY, symbol=symbol)=}\")\n"
   ]
  },
  {
   "cell_type": "code",
   "execution_count": null,
   "metadata": {},
   "outputs": [],
   "source": [
    "# there should be no duplicate symbols in this list\n",
    "assert not ibdgrowth_loaded.columns.levels[0].duplicated().any() "
   ]
  },
  {
   "cell_type": "code",
   "execution_count": null,
   "metadata": {},
   "outputs": [],
   "source": [
    "earnings_all_df = pd.DataFrame()\n",
    "for ticker in stocks_ticker_set:\n",
    "    earnings = fmpsdk.historical_earning_calendar(apikey=FMP_API_KEY, symbol=ticker, limit=-1)\n",
    "    if earnings is not None and len(earnings) > 0:\n",
    "        edf = pd.DataFrame(earnings)\n",
    "        edf['date'] = pd.to_datetime(edf['date'])\n",
    "        edf = edf.set_index(['symbol', 'date'])\n",
    "        print(f\"Earnings calendar for {ticker}: \\n{edf}\")\n",
    "        # edf = edf.pivot(columns='symbol')\n",
    "        # edf.swaplevel(i=0,j=1, axis=0)\n",
    "        # edf.drop(columns=['symbol'])\n",
    "        earnings_all_df = pd.concat([earnings_all_df, edf])\n",
    "        print(f\"Earnings calendar after pivot for {ticker}: \\n{edf}\")\n",
    "        n_earnings = len(earnings)\n",
    "        print(f\"Total earnings reports for {ticker}: {n_earnings}\")\n",
    "#    earliest_earn = earnings[-1] if len(earnings > 0 else 'None')\n",
    "#    print(f\"Earliest earnings report for {ticker}: {earliest_earn}\")\n"
   ]
  },
  {
   "cell_type": "code",
   "execution_count": null,
   "metadata": {},
   "outputs": [],
   "source": [
    "earnings"
   ]
  },
  {
   "cell_type": "code",
   "execution_count": null,
   "metadata": {},
   "outputs": [],
   "source": [
    "aaon = earnings_all_df.loc[['AAON']]"
   ]
  },
  {
   "cell_type": "code",
   "execution_count": null,
   "metadata": {},
   "outputs": [],
   "source": [
    "aaon"
   ]
  },
  {
   "cell_type": "code",
   "execution_count": null,
   "metadata": {},
   "outputs": [],
   "source": [
    "len(earnings_all_df)"
   ]
  },
  {
   "cell_type": "code",
   "execution_count": null,
   "metadata": {},
   "outputs": [],
   "source": [
    "earnings_all_df\n"
   ]
  },
  {
   "cell_type": "code",
   "execution_count": null,
   "metadata": {},
   "outputs": [],
   "source": [
    "earnings_file = 'data/earnings_calendar.csv.bz2'"
   ]
  },
  {
   "cell_type": "code",
   "execution_count": null,
   "metadata": {},
   "outputs": [],
   "source": [
    "earnings_all_df.to_csv(earnings_file)"
   ]
  },
  {
   "cell_type": "markdown",
   "metadata": {},
   "source": [
    "### Read back data and verify it"
   ]
  },
  {
   "cell_type": "code",
   "execution_count": null,
   "metadata": {},
   "outputs": [],
   "source": [
    "import pandas as pd\n",
    "\n",
    "earnings_loaded_df = pd.read_csv('data/earnings_calendar.csv.bz2', index_col=['symbol', 'date'])\n",
    "print(earnings_loaded_df)"
   ]
  },
  {
   "cell_type": "markdown",
   "metadata": {},
   "source": [
    "## Prepare key metrics data for company fundamentals"
   ]
  },
  {
   "cell_type": "code",
   "execution_count": null,
   "metadata": {},
   "outputs": [],
   "source": [
    "keymetrics_all_df = pd.DataFrame()\n",
    "for ticker in stocks_ticker_set:\n",
    "    kms = fmpsdk.key_metrics(apikey=FMP_API_KEY, symbol=ticker, period='quarter', limit=-1)\n",
    "    if kms is not None and len(kms) > 0:\n",
    "        kms_df = pd.DataFrame(kms)\n",
    "        kms_df['date'] = pd.to_datetime(kms_df['date'])\n",
    "        kms_df = kms_df.set_index(['symbol', 'date'])\n",
    "        print(f\"Key metrics for {ticker} sample: \\n{kms_df.columns}\")\n",
    "        keymetrics_all_df = pd.concat([keymetrics_all_df, kms_df])\n",
    "        print(f\"Key metrics concatenated {ticker}: \\n{keymetrics_all_df.columns}\")\n",
    "        n_kms = len(kms_df)\n",
    "        print(f\"Total key metrics reports for {ticker}: {n_kms}\")\n"
   ]
  },
  {
   "cell_type": "markdown",
   "metadata": {},
   "source": [
    "Experiment with other stock data"
   ]
  },
  {
   "cell_type": "code",
   "execution_count": null,
   "metadata": {},
   "outputs": [],
   "source": [
    "keymetrics_all_df"
   ]
  },
  {
   "cell_type": "code",
   "execution_count": null,
   "metadata": {},
   "outputs": [],
   "source": [
    "kms_file = 'data/keymetrics_history.csv.bz2'\n",
    "keymetrics_all_df.to_csv(kms_file)"
   ]
  },
  {
   "cell_type": "markdown",
   "metadata": {},
   "source": [
    "## Prepare forward looking analyst estimates to be used as future covariates"
   ]
  },
  {
   "cell_type": "code",
   "execution_count": null,
   "metadata": {},
   "outputs": [],
   "source": [
    "DEFAULT_LIMIT=-1\n",
    "import typing\n",
    "from fmpsdk.url_methods import __return_json_v3, __validate_period\n",
    "\n",
    "\n",
    "def analyst_estimates(\n",
    "    apikey: str, \n",
    "    symbol: str, \n",
    "    period: str = \"annual\",\n",
    "    limit: int = DEFAULT_LIMIT\n",
    ") -> typing.Optional[typing.List[typing.Dict]]:\n",
    "    \"\"\"\n",
    "    Query FMP /analyst-estimates/ API.\n",
    "\n",
    "    :param apikey: Your API key.\n",
    "    :param symbol: Company ticker.\n",
    "    :param period: 'annual' or 'quarter'\n",
    "    :param limit: Number of rows to return.\n",
    "    :return: A list of dictionaries.\n",
    "    \"\"\"\n",
    "    path = f\"/analyst-estimates/{symbol}\"\n",
    "    query_vars = {\n",
    "        \"apikey\": apikey,\n",
    "        \"symbol\": symbol,\n",
    "        \"period\": __validate_period(value=period),\n",
    "        \"limit\": limit,\n",
    "    }\n",
    "    return __return_json_v3(path=path, query_vars=query_vars)\n",
    "\n"
   ]
  },
  {
   "cell_type": "code",
   "execution_count": null,
   "metadata": {},
   "outputs": [],
   "source": [
    "\n",
    "def fetch_estimates(period=None):\n",
    "    assert period in ['quarter', 'annual']\n",
    "    estimates_all_df = pd.DataFrame()\n",
    "    for ticker in stocks_ticker_set:\n",
    "        est = analyst_estimates(apikey=FMP_API_KEY, symbol=ticker, period=period, limit=-1)\n",
    "        # print('est:', est)\n",
    "        if est is not None and len(est) > 0:\n",
    "            est_df = pd.DataFrame(est)\n",
    "            est_df['date'] = pd.to_datetime(est_df['date'])\n",
    "            est_df = est_df.set_index(['symbol', 'date'])\n",
    "            # print(f\"Analyst estimates for {ticker} sample: \\n{est_df.columns}\")\n",
    "            estimates_all_df = pd.concat([estimates_all_df, est_df])\n",
    "            # print(f\"Key metrics concatenated {ticker}: \\n{estimates_all_df.columns}\")\n",
    "            n_est = len(est_df)\n",
    "            print(f\"Total estimates reports for {ticker}: {n_est}\")\n",
    "    return estimates_all_df\n",
    "\n"
   ]
  },
  {
   "cell_type": "code",
   "execution_count": null,
   "metadata": {},
   "outputs": [],
   "source": [
    "for p in ['annual', 'quarter']:\n",
    "    estimates_all_df = fetch_estimates(p)\n",
    "    est_file_name= f'data/analyst_estimates_{p}.csv.bz2'    \n",
    "    estimates_all_df.to_csv(est_file_name)\n",
    "    print(f'{p} estimates:', estimates_all_df)\n",
    "    "
   ]
  },
  {
   "cell_type": "code",
   "execution_count": null,
   "metadata": {},
   "outputs": [],
   "source": []
  }
 ],
 "metadata": {
  "kernelspec": {
   "display_name": "Python 3",
   "language": "python",
   "name": "python3"
  },
  "language_info": {
   "codemirror_mode": {
    "name": "ipython",
    "version": 3
   },
   "file_extension": ".py",
   "mimetype": "text/x-python",
   "name": "python",
   "nbconvert_exporter": "python",
   "pygments_lexer": "ipython3",
   "version": "3.11.5"
  }
 },
 "nbformat": 4,
 "nbformat_minor": 2
}
