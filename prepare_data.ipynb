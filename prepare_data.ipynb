{
 "cells": [
  {
   "cell_type": "code",
   "execution_count": 1,
   "metadata": {},
   "outputs": [
    {
     "name": "stdout",
     "output_type": "stream",
     "text": [
      "Requirement already satisfied: darts in /home/ivelin/anaconda3/lib/python3.11/site-packages (from -r requirements.txt (line 1)) (0.27.1)\n",
      "Requirement already satisfied: yfinance in /home/ivelin/anaconda3/lib/python3.11/site-packages (from -r requirements.txt (line 2)) (0.2.33)\n",
      "Collecting utils (from -r requirements.txt (line 3))\n",
      "  Downloading utils-1.0.1-py2.py3-none-any.whl (21 kB)\n",
      "Requirement already satisfied: holidays>=0.11.1 in /home/ivelin/anaconda3/lib/python3.11/site-packages (from darts->-r requirements.txt (line 1)) (0.39)\n",
      "Requirement already satisfied: joblib>=0.16.0 in /home/ivelin/anaconda3/lib/python3.11/site-packages (from darts->-r requirements.txt (line 1)) (1.2.0)\n",
      "Requirement already satisfied: matplotlib>=3.3.0 in /home/ivelin/anaconda3/lib/python3.11/site-packages (from darts->-r requirements.txt (line 1)) (3.7.2)\n",
      "Requirement already satisfied: nfoursid>=1.0.0 in /home/ivelin/anaconda3/lib/python3.11/site-packages (from darts->-r requirements.txt (line 1)) (1.0.1)\n",
      "Requirement already satisfied: numpy>=1.19.0 in /home/ivelin/anaconda3/lib/python3.11/site-packages (from darts->-r requirements.txt (line 1)) (1.24.3)\n",
      "Requirement already satisfied: pmdarima>=1.8.0 in /home/ivelin/anaconda3/lib/python3.11/site-packages (from darts->-r requirements.txt (line 1)) (2.0.4)\n",
      "Requirement already satisfied: pyod>=0.9.5 in /home/ivelin/anaconda3/lib/python3.11/site-packages (from darts->-r requirements.txt (line 1)) (1.1.2)\n",
      "Requirement already satisfied: requests>=2.22.0 in /home/ivelin/anaconda3/lib/python3.11/site-packages (from darts->-r requirements.txt (line 1)) (2.31.0)\n",
      "Requirement already satisfied: scikit-learn>=1.0.1 in /home/ivelin/anaconda3/lib/python3.11/site-packages (from darts->-r requirements.txt (line 1)) (1.3.0)\n",
      "Requirement already satisfied: scipy>=1.3.2 in /home/ivelin/anaconda3/lib/python3.11/site-packages (from darts->-r requirements.txt (line 1)) (1.11.1)\n",
      "Requirement already satisfied: shap>=0.40.0 in /home/ivelin/anaconda3/lib/python3.11/site-packages (from darts->-r requirements.txt (line 1)) (0.44.0)\n",
      "Requirement already satisfied: statsforecast>=1.4 in /home/ivelin/anaconda3/lib/python3.11/site-packages (from darts->-r requirements.txt (line 1)) (1.7.0)\n",
      "Requirement already satisfied: statsmodels>=0.14.0 in /home/ivelin/anaconda3/lib/python3.11/site-packages (from darts->-r requirements.txt (line 1)) (0.14.0)\n",
      "Requirement already satisfied: tbats>=1.1.0 in /home/ivelin/anaconda3/lib/python3.11/site-packages (from darts->-r requirements.txt (line 1)) (1.1.3)\n",
      "Requirement already satisfied: tqdm>=4.60.0 in /home/ivelin/anaconda3/lib/python3.11/site-packages (from darts->-r requirements.txt (line 1)) (4.65.0)\n",
      "Requirement already satisfied: typing-extensions in /home/ivelin/anaconda3/lib/python3.11/site-packages (from darts->-r requirements.txt (line 1)) (4.7.1)\n",
      "Requirement already satisfied: xarray>=0.17.0 in /home/ivelin/anaconda3/lib/python3.11/site-packages (from darts->-r requirements.txt (line 1)) (2023.6.0)\n",
      "Requirement already satisfied: xgboost>=1.6.0 in /home/ivelin/anaconda3/lib/python3.11/site-packages (from darts->-r requirements.txt (line 1)) (2.0.3)\n",
      "Requirement already satisfied: pytorch-lightning>=1.5.0 in /home/ivelin/anaconda3/lib/python3.11/site-packages (from darts->-r requirements.txt (line 1)) (2.1.3)\n",
      "Requirement already satisfied: tensorboardX>=2.1 in /home/ivelin/anaconda3/lib/python3.11/site-packages (from darts->-r requirements.txt (line 1)) (2.6.2.2)\n",
      "Requirement already satisfied: torch>=1.8.0 in /home/ivelin/anaconda3/lib/python3.11/site-packages (from darts->-r requirements.txt (line 1)) (2.1.2)\n",
      "Requirement already satisfied: pandas>=1.0.5 in /home/ivelin/anaconda3/lib/python3.11/site-packages (from darts->-r requirements.txt (line 1)) (2.0.3)\n",
      "Requirement already satisfied: multitasking>=0.0.7 in /home/ivelin/anaconda3/lib/python3.11/site-packages (from yfinance->-r requirements.txt (line 2)) (0.0.11)\n",
      "Requirement already satisfied: lxml>=4.9.1 in /home/ivelin/anaconda3/lib/python3.11/site-packages (from yfinance->-r requirements.txt (line 2)) (4.9.3)\n",
      "Requirement already satisfied: appdirs>=1.4.4 in /home/ivelin/anaconda3/lib/python3.11/site-packages (from yfinance->-r requirements.txt (line 2)) (1.4.4)\n",
      "Requirement already satisfied: pytz>=2022.5 in /home/ivelin/anaconda3/lib/python3.11/site-packages (from yfinance->-r requirements.txt (line 2)) (2023.3.post1)\n",
      "Requirement already satisfied: frozendict>=2.3.4 in /home/ivelin/anaconda3/lib/python3.11/site-packages (from yfinance->-r requirements.txt (line 2)) (2.3.10)\n",
      "Requirement already satisfied: peewee>=3.16.2 in /home/ivelin/anaconda3/lib/python3.11/site-packages (from yfinance->-r requirements.txt (line 2)) (3.17.0)\n",
      "Requirement already satisfied: beautifulsoup4>=4.11.1 in /home/ivelin/anaconda3/lib/python3.11/site-packages (from yfinance->-r requirements.txt (line 2)) (4.12.2)\n",
      "Requirement already satisfied: html5lib>=1.1 in /home/ivelin/anaconda3/lib/python3.11/site-packages (from yfinance->-r requirements.txt (line 2)) (1.1)\n",
      "Requirement already satisfied: soupsieve>1.2 in /home/ivelin/anaconda3/lib/python3.11/site-packages (from beautifulsoup4>=4.11.1->yfinance->-r requirements.txt (line 2)) (2.4)\n",
      "Requirement already satisfied: python-dateutil in /home/ivelin/.local/lib/python3.11/site-packages (from holidays>=0.11.1->darts->-r requirements.txt (line 1)) (2.8.2)\n",
      "Requirement already satisfied: six>=1.9 in /home/ivelin/.local/lib/python3.11/site-packages (from html5lib>=1.1->yfinance->-r requirements.txt (line 2)) (1.16.0)\n",
      "Requirement already satisfied: webencodings in /home/ivelin/anaconda3/lib/python3.11/site-packages (from html5lib>=1.1->yfinance->-r requirements.txt (line 2)) (0.5.1)\n",
      "Requirement already satisfied: contourpy>=1.0.1 in /home/ivelin/anaconda3/lib/python3.11/site-packages (from matplotlib>=3.3.0->darts->-r requirements.txt (line 1)) (1.0.5)\n",
      "Requirement already satisfied: cycler>=0.10 in /home/ivelin/anaconda3/lib/python3.11/site-packages (from matplotlib>=3.3.0->darts->-r requirements.txt (line 1)) (0.11.0)\n",
      "Requirement already satisfied: fonttools>=4.22.0 in /home/ivelin/anaconda3/lib/python3.11/site-packages (from matplotlib>=3.3.0->darts->-r requirements.txt (line 1)) (4.25.0)\n",
      "Requirement already satisfied: kiwisolver>=1.0.1 in /home/ivelin/anaconda3/lib/python3.11/site-packages (from matplotlib>=3.3.0->darts->-r requirements.txt (line 1)) (1.4.4)\n",
      "Requirement already satisfied: packaging>=20.0 in /home/ivelin/.local/lib/python3.11/site-packages (from matplotlib>=3.3.0->darts->-r requirements.txt (line 1)) (23.2)\n",
      "Requirement already satisfied: pillow>=6.2.0 in /home/ivelin/anaconda3/lib/python3.11/site-packages (from matplotlib>=3.3.0->darts->-r requirements.txt (line 1)) (9.4.0)\n",
      "Requirement already satisfied: pyparsing<3.1,>=2.3.1 in /home/ivelin/anaconda3/lib/python3.11/site-packages (from matplotlib>=3.3.0->darts->-r requirements.txt (line 1)) (3.0.9)\n",
      "Requirement already satisfied: tzdata>=2022.1 in /home/ivelin/anaconda3/lib/python3.11/site-packages (from pandas>=1.0.5->darts->-r requirements.txt (line 1)) (2023.3)\n",
      "Requirement already satisfied: Cython!=0.29.18,!=0.29.31,>=0.29 in /home/ivelin/anaconda3/lib/python3.11/site-packages (from pmdarima>=1.8.0->darts->-r requirements.txt (line 1)) (3.0.7)\n",
      "Requirement already satisfied: urllib3 in /home/ivelin/anaconda3/lib/python3.11/site-packages (from pmdarima>=1.8.0->darts->-r requirements.txt (line 1)) (1.26.16)\n",
      "Requirement already satisfied: setuptools!=50.0.0,>=38.6.0 in /home/ivelin/anaconda3/lib/python3.11/site-packages (from pmdarima>=1.8.0->darts->-r requirements.txt (line 1)) (68.0.0)\n",
      "Requirement already satisfied: numba>=0.51 in /home/ivelin/anaconda3/lib/python3.11/site-packages (from pyod>=0.9.5->darts->-r requirements.txt (line 1)) (0.57.1)\n",
      "Requirement already satisfied: PyYAML>=5.4 in /home/ivelin/anaconda3/lib/python3.11/site-packages (from pytorch-lightning>=1.5.0->darts->-r requirements.txt (line 1)) (6.0)\n",
      "Requirement already satisfied: fsspec[http]>=2022.5.0 in /home/ivelin/anaconda3/lib/python3.11/site-packages (from pytorch-lightning>=1.5.0->darts->-r requirements.txt (line 1)) (2023.4.0)\n",
      "Requirement already satisfied: torchmetrics>=0.7.0 in /home/ivelin/anaconda3/lib/python3.11/site-packages (from pytorch-lightning>=1.5.0->darts->-r requirements.txt (line 1)) (1.2.1)\n",
      "Requirement already satisfied: lightning-utilities>=0.8.0 in /home/ivelin/anaconda3/lib/python3.11/site-packages (from pytorch-lightning>=1.5.0->darts->-r requirements.txt (line 1)) (0.10.0)\n",
      "Requirement already satisfied: charset-normalizer<4,>=2 in /home/ivelin/anaconda3/lib/python3.11/site-packages (from requests>=2.22.0->darts->-r requirements.txt (line 1)) (2.0.4)\n",
      "Requirement already satisfied: idna<4,>=2.5 in /home/ivelin/anaconda3/lib/python3.11/site-packages (from requests>=2.22.0->darts->-r requirements.txt (line 1)) (3.4)\n",
      "Requirement already satisfied: certifi>=2017.4.17 in /home/ivelin/anaconda3/lib/python3.11/site-packages (from requests>=2.22.0->darts->-r requirements.txt (line 1)) (2023.7.22)\n",
      "Requirement already satisfied: threadpoolctl>=2.0.0 in /home/ivelin/anaconda3/lib/python3.11/site-packages (from scikit-learn>=1.0.1->darts->-r requirements.txt (line 1)) (2.2.0)\n",
      "Requirement already satisfied: slicer==0.0.7 in /home/ivelin/anaconda3/lib/python3.11/site-packages (from shap>=0.40.0->darts->-r requirements.txt (line 1)) (0.0.7)\n",
      "Requirement already satisfied: cloudpickle in /home/ivelin/anaconda3/lib/python3.11/site-packages (from shap>=0.40.0->darts->-r requirements.txt (line 1)) (2.2.1)\n",
      "Requirement already satisfied: fugue>=0.8.1 in /home/ivelin/anaconda3/lib/python3.11/site-packages (from statsforecast>=1.4->darts->-r requirements.txt (line 1)) (0.8.7)\n",
      "Requirement already satisfied: utilsforecast>=0.0.23 in /home/ivelin/anaconda3/lib/python3.11/site-packages (from statsforecast>=1.4->darts->-r requirements.txt (line 1)) (0.0.23)\n",
      "Requirement already satisfied: patsy>=0.5.2 in /home/ivelin/anaconda3/lib/python3.11/site-packages (from statsmodels>=0.14.0->darts->-r requirements.txt (line 1)) (0.5.3)\n",
      "Requirement already satisfied: protobuf>=3.20 in /home/ivelin/anaconda3/lib/python3.11/site-packages (from tensorboardX>=2.1->darts->-r requirements.txt (line 1)) (4.25.1)\n",
      "Requirement already satisfied: filelock in /home/ivelin/anaconda3/lib/python3.11/site-packages (from torch>=1.8.0->darts->-r requirements.txt (line 1)) (3.9.0)\n",
      "Requirement already satisfied: sympy in /home/ivelin/anaconda3/lib/python3.11/site-packages (from torch>=1.8.0->darts->-r requirements.txt (line 1)) (1.11.1)\n",
      "Requirement already satisfied: networkx in /home/ivelin/anaconda3/lib/python3.11/site-packages (from torch>=1.8.0->darts->-r requirements.txt (line 1)) (3.1)\n",
      "Requirement already satisfied: jinja2 in /home/ivelin/anaconda3/lib/python3.11/site-packages (from torch>=1.8.0->darts->-r requirements.txt (line 1)) (3.1.2)\n",
      "Requirement already satisfied: nvidia-cuda-nvrtc-cu12==12.1.105 in /home/ivelin/anaconda3/lib/python3.11/site-packages (from torch>=1.8.0->darts->-r requirements.txt (line 1)) (12.1.105)\n",
      "Requirement already satisfied: nvidia-cuda-runtime-cu12==12.1.105 in /home/ivelin/anaconda3/lib/python3.11/site-packages (from torch>=1.8.0->darts->-r requirements.txt (line 1)) (12.1.105)\n",
      "Requirement already satisfied: nvidia-cuda-cupti-cu12==12.1.105 in /home/ivelin/anaconda3/lib/python3.11/site-packages (from torch>=1.8.0->darts->-r requirements.txt (line 1)) (12.1.105)\n",
      "Requirement already satisfied: nvidia-cudnn-cu12==8.9.2.26 in /home/ivelin/anaconda3/lib/python3.11/site-packages (from torch>=1.8.0->darts->-r requirements.txt (line 1)) (8.9.2.26)\n",
      "Requirement already satisfied: nvidia-cublas-cu12==12.1.3.1 in /home/ivelin/anaconda3/lib/python3.11/site-packages (from torch>=1.8.0->darts->-r requirements.txt (line 1)) (12.1.3.1)\n",
      "Requirement already satisfied: nvidia-cufft-cu12==11.0.2.54 in /home/ivelin/anaconda3/lib/python3.11/site-packages (from torch>=1.8.0->darts->-r requirements.txt (line 1)) (11.0.2.54)\n",
      "Requirement already satisfied: nvidia-curand-cu12==10.3.2.106 in /home/ivelin/anaconda3/lib/python3.11/site-packages (from torch>=1.8.0->darts->-r requirements.txt (line 1)) (10.3.2.106)\n",
      "Requirement already satisfied: nvidia-cusolver-cu12==11.4.5.107 in /home/ivelin/anaconda3/lib/python3.11/site-packages (from torch>=1.8.0->darts->-r requirements.txt (line 1)) (11.4.5.107)\n",
      "Requirement already satisfied: nvidia-cusparse-cu12==12.1.0.106 in /home/ivelin/anaconda3/lib/python3.11/site-packages (from torch>=1.8.0->darts->-r requirements.txt (line 1)) (12.1.0.106)\n",
      "Requirement already satisfied: nvidia-nccl-cu12==2.18.1 in /home/ivelin/anaconda3/lib/python3.11/site-packages (from torch>=1.8.0->darts->-r requirements.txt (line 1)) (2.18.1)\n",
      "Requirement already satisfied: nvidia-nvtx-cu12==12.1.105 in /home/ivelin/anaconda3/lib/python3.11/site-packages (from torch>=1.8.0->darts->-r requirements.txt (line 1)) (12.1.105)\n",
      "Requirement already satisfied: triton==2.1.0 in /home/ivelin/anaconda3/lib/python3.11/site-packages (from torch>=1.8.0->darts->-r requirements.txt (line 1)) (2.1.0)\n",
      "Requirement already satisfied: nvidia-nvjitlink-cu12 in /home/ivelin/anaconda3/lib/python3.11/site-packages (from nvidia-cusolver-cu12==11.4.5.107->torch>=1.8.0->darts->-r requirements.txt (line 1)) (12.3.101)\n",
      "Requirement already satisfied: aiohttp!=4.0.0a0,!=4.0.0a1 in /home/ivelin/anaconda3/lib/python3.11/site-packages (from fsspec[http]>=2022.5.0->pytorch-lightning>=1.5.0->darts->-r requirements.txt (line 1)) (3.8.5)\n",
      "Requirement already satisfied: triad>=0.9.3 in /home/ivelin/anaconda3/lib/python3.11/site-packages (from fugue>=0.8.1->statsforecast>=1.4->darts->-r requirements.txt (line 1)) (0.9.3)\n",
      "Requirement already satisfied: adagio>=0.2.4 in /home/ivelin/anaconda3/lib/python3.11/site-packages (from fugue>=0.8.1->statsforecast>=1.4->darts->-r requirements.txt (line 1)) (0.2.4)\n",
      "Requirement already satisfied: qpd>=0.4.4 in /home/ivelin/anaconda3/lib/python3.11/site-packages (from fugue>=0.8.1->statsforecast>=1.4->darts->-r requirements.txt (line 1)) (0.4.4)\n",
      "Requirement already satisfied: fugue-sql-antlr>=0.1.6 in /home/ivelin/anaconda3/lib/python3.11/site-packages (from fugue>=0.8.1->statsforecast>=1.4->darts->-r requirements.txt (line 1)) (0.2.0)\n",
      "Requirement already satisfied: sqlglot in /home/ivelin/anaconda3/lib/python3.11/site-packages (from fugue>=0.8.1->statsforecast>=1.4->darts->-r requirements.txt (line 1)) (20.5.0)\n",
      "Requirement already satisfied: llvmlite<0.41,>=0.40.0dev0 in /home/ivelin/anaconda3/lib/python3.11/site-packages (from numba>=0.51->pyod>=0.9.5->darts->-r requirements.txt (line 1)) (0.40.0)\n",
      "Requirement already satisfied: MarkupSafe>=2.0 in /home/ivelin/anaconda3/lib/python3.11/site-packages (from jinja2->torch>=1.8.0->darts->-r requirements.txt (line 1)) (2.1.1)\n",
      "Requirement already satisfied: mpmath>=0.19 in /home/ivelin/anaconda3/lib/python3.11/site-packages (from sympy->torch>=1.8.0->darts->-r requirements.txt (line 1)) (1.3.0)\n",
      "Requirement already satisfied: attrs>=17.3.0 in /home/ivelin/anaconda3/lib/python3.11/site-packages (from aiohttp!=4.0.0a0,!=4.0.0a1->fsspec[http]>=2022.5.0->pytorch-lightning>=1.5.0->darts->-r requirements.txt (line 1)) (22.1.0)\n",
      "Requirement already satisfied: multidict<7.0,>=4.5 in /home/ivelin/anaconda3/lib/python3.11/site-packages (from aiohttp!=4.0.0a0,!=4.0.0a1->fsspec[http]>=2022.5.0->pytorch-lightning>=1.5.0->darts->-r requirements.txt (line 1)) (6.0.2)\n",
      "Requirement already satisfied: async-timeout<5.0,>=4.0.0a3 in /home/ivelin/anaconda3/lib/python3.11/site-packages (from aiohttp!=4.0.0a0,!=4.0.0a1->fsspec[http]>=2022.5.0->pytorch-lightning>=1.5.0->darts->-r requirements.txt (line 1)) (4.0.2)\n",
      "Requirement already satisfied: yarl<2.0,>=1.0 in /home/ivelin/anaconda3/lib/python3.11/site-packages (from aiohttp!=4.0.0a0,!=4.0.0a1->fsspec[http]>=2022.5.0->pytorch-lightning>=1.5.0->darts->-r requirements.txt (line 1)) (1.8.1)\n",
      "Requirement already satisfied: frozenlist>=1.1.1 in /home/ivelin/anaconda3/lib/python3.11/site-packages (from aiohttp!=4.0.0a0,!=4.0.0a1->fsspec[http]>=2022.5.0->pytorch-lightning>=1.5.0->darts->-r requirements.txt (line 1)) (1.3.3)\n",
      "Requirement already satisfied: aiosignal>=1.1.2 in /home/ivelin/anaconda3/lib/python3.11/site-packages (from aiohttp!=4.0.0a0,!=4.0.0a1->fsspec[http]>=2022.5.0->pytorch-lightning>=1.5.0->darts->-r requirements.txt (line 1)) (1.2.0)\n",
      "Requirement already satisfied: antlr4-python3-runtime<4.12 in /home/ivelin/anaconda3/lib/python3.11/site-packages (from fugue-sql-antlr>=0.1.6->fugue>=0.8.1->statsforecast>=1.4->darts->-r requirements.txt (line 1)) (4.11.1)\n",
      "Requirement already satisfied: pyarrow>=6.0.1 in /home/ivelin/anaconda3/lib/python3.11/site-packages (from triad>=0.9.3->fugue>=0.8.1->statsforecast>=1.4->darts->-r requirements.txt (line 1)) (11.0.0)\n",
      "Requirement already satisfied: fs in /home/ivelin/anaconda3/lib/python3.11/site-packages (from triad>=0.9.3->fugue>=0.8.1->statsforecast>=1.4->darts->-r requirements.txt (line 1)) (2.4.16)\n",
      "Installing collected packages: utils\n",
      "Successfully installed utils-1.0.1\n",
      "Note: you may need to restart the kernel to use updated packages.\n"
     ]
    }
   ],
   "source": [
    "pip install -r requirements.txt\n"
   ]
  },
  {
   "cell_type": "markdown",
   "metadata": {},
   "source": [
    "Explore stock market dataset from Yahoo Finance"
   ]
  },
  {
   "cell_type": "code",
   "execution_count": null,
   "metadata": {},
   "outputs": [],
   "source": [
    "import yfinance as yf\n",
    "\n",
    "msft = yf.Ticker(\"MSFT\")\n",
    "print(msft)\n",
    "\"\"\"\n",
    "returns\n",
    "<yfinance.Ticker object at 0x1a1715e898>\n",
    "\"\"\"\n"
   ]
  },
  {
   "cell_type": "code",
   "execution_count": null,
   "metadata": {},
   "outputs": [],
   "source": [
    "import json\n",
    "\n",
    "# get stock info\n",
    "print(json.dumps(msft.info, indent=2))\n",
    "\n",
    "\"\"\"\n",
    "returns:\n",
    "{\n",
    " 'quoteType': 'EQUITY',\n",
    " 'quoteSourceName': 'Nasdaq Real Time Price',\n",
    " 'currency': 'USD',\n",
    " 'shortName': 'Microsoft Corporation',\n",
    " 'exchangeTimezoneName': 'America/New_York',\n",
    "  ...\n",
    " 'symbol': 'MSFT'\n",
    "}\n",
    "\"\"\"\n"
   ]
  },
  {
   "cell_type": "code",
   "execution_count": null,
   "metadata": {},
   "outputs": [],
   "source": [
    "\n",
    "# get historical market data\n",
    "msft_hist = msft.history(period=\"max\")\n",
    "print(msft_hist)\n",
    "\"\"\"\n",
    "returns:\n",
    "              Open    High    Low    Close      Volume  Dividends  Splits\n",
    "Date\n",
    "1986-03-13    0.06    0.07    0.06    0.07  1031788800        0.0     0.0\n",
    "1986-03-14    0.07    0.07    0.07    0.07   308160000        0.0     0.0\n",
    "...\n",
    "2019-04-15  120.94  121.58  120.57  121.05    15792600        0.0     0.0\n",
    "2019-04-16  121.64  121.65  120.10  120.77    14059700        0.0     0.0\n",
    "\"\"\"\n"
   ]
  },
  {
   "cell_type": "code",
   "execution_count": null,
   "metadata": {},
   "outputs": [],
   "source": [
    "# show actions (dividends, splits)\n",
    "print(msft.actions)\n",
    "\"\"\"\n",
    "returns:\n",
    "            Dividends  Splits\n",
    "Date\n",
    "1987-09-21       0.00     2.0\n",
    "1990-04-16       0.00     2.0\n",
    "...\n",
    "2018-11-14       0.46     0.0\n",
    "2019-02-20       0.46     0.0\n",
    "\"\"\""
   ]
  },
  {
   "cell_type": "code",
   "execution_count": null,
   "metadata": {},
   "outputs": [],
   "source": [
    "\n",
    "# show dividends\n",
    "print(msft.dividends)\n",
    "\"\"\"\n",
    "returns:\n",
    "Date\n",
    "2003-02-19    0.08\n",
    "2003-10-15    0.16\n",
    "...\n",
    "2018-11-14    0.46\n",
    "2019-02-20    0.46\n",
    "\"\"\""
   ]
  },
  {
   "cell_type": "code",
   "execution_count": null,
   "metadata": {},
   "outputs": [],
   "source": [
    "# show splits\n",
    "print(msft.splits)\n",
    "\"\"\"\n",
    "returns:\n",
    "Date\n",
    "1987-09-21    2.0\n",
    "1990-04-16    2.0\n",
    "...\n",
    "1999-03-29    2.0\n",
    "2003-02-18    2.0\n",
    "\"\"\""
   ]
  },
  {
   "cell_type": "code",
   "execution_count": null,
   "metadata": {},
   "outputs": [],
   "source": [
    "msft_hist.head()"
   ]
  },
  {
   "cell_type": "code",
   "execution_count": null,
   "metadata": {},
   "outputs": [],
   "source": [
    "msft_hist.tail()"
   ]
  },
  {
   "cell_type": "code",
   "execution_count": null,
   "metadata": {},
   "outputs": [],
   "source": [
    "df=msft_hist\n",
    "# df=msft_hist.reset_index(drop=True)\n",
    "# data['Date']=pd.to_datetime(data['Date'])\n",
    "print(len(df))\n",
    "df.head()"
   ]
  },
  {
   "cell_type": "markdown",
   "metadata": {},
   "source": [
    "Ingest data into darts timeseries\n"
   ]
  },
  {
   "cell_type": "code",
   "execution_count": null,
   "metadata": {},
   "outputs": [],
   "source": [
    "# Count rows without values\n",
    "# https://stackoverflow.com/questions/28199524/best-way-to-count-the-number-of-rows-with-missing-values-in-a-pandas-dataframe\n",
    "df.shape[0] - df.dropna().shape[0]\n",
    "\n"
   ]
  },
  {
   "cell_type": "code",
   "execution_count": null,
   "metadata": {},
   "outputs": [],
   "source": [
    "# count any cells without values\n",
    "df.isnull().values.ravel().sum()"
   ]
  },
  {
   "cell_type": "markdown",
   "metadata": {},
   "source": [
    "Convert data to timeseries format that models can work with\n",
    "\n",
    "Regular time intervals between data points and no missing values"
   ]
  },
  {
   "cell_type": "code",
   "execution_count": null,
   "metadata": {},
   "outputs": [],
   "source": [
    "import pandas as pd\n",
    "from darts import TimeSeries\n",
    "\n",
    "# df = pd.read_csv('https://raw.githubusercontent.com/AileenNielsen/TimeSeriesAnalysisWithPython/master/data/AirPassengers.csv')\n",
    "\n",
    "series = TimeSeries.from_dataframe(df, value_cols=['Close'], fill_missing_dates=True, freq='B') # , \"Open\", \"High\", \"Low\", \"Close\", \"Volume\", \"Dividends\", \"Splits\", \"Date\")\n"
   ]
  },
  {
   "cell_type": "code",
   "execution_count": null,
   "metadata": {},
   "outputs": [],
   "source": [
    "# get regularized time series with NaN fill-ins\n",
    "reg_df = series.pd_dataframe()"
   ]
  },
  {
   "cell_type": "code",
   "execution_count": null,
   "metadata": {},
   "outputs": [],
   "source": [
    "# get number of rows without values\n",
    "reg_df.shape[0] - reg_df.dropna().shape[0]"
   ]
  },
  {
   "cell_type": "code",
   "execution_count": null,
   "metadata": {},
   "outputs": [],
   "source": [
    "# fill in missing values\n",
    "reg_df = reg_df.interpolate()\n"
   ]
  },
  {
   "cell_type": "code",
   "execution_count": null,
   "metadata": {},
   "outputs": [],
   "source": [
    "# Check again number of rows without values. Should be 0.\n",
    "reg_df.shape[0] - reg_df.dropna().shape[0]"
   ]
  },
  {
   "cell_type": "code",
   "execution_count": null,
   "metadata": {},
   "outputs": [],
   "source": [
    "# update series with new regularized dates and values\n",
    "series = TimeSeries.from_dataframe(reg_df)"
   ]
  },
  {
   "cell_type": "markdown",
   "metadata": {},
   "source": [
    "Save prepared timeseries data to local csv for model training"
   ]
  },
  {
   "cell_type": "code",
   "execution_count": null,
   "metadata": {},
   "outputs": [],
   "source": [
    "series.to_csv('data/market_data.csv')"
   ]
  },
  {
   "cell_type": "markdown",
   "metadata": {},
   "source": [
    "Make sure data can load back into timeseries"
   ]
  },
  {
   "cell_type": "code",
   "execution_count": null,
   "metadata": {},
   "outputs": [],
   "source": [
    "series = TimeSeries.from_csv('data/market_data.csv', time_col='Date')"
   ]
  },
  {
   "cell_type": "code",
   "execution_count": null,
   "metadata": {},
   "outputs": [],
   "source": [
    "series"
   ]
  }
 ],
 "metadata": {
  "kernelspec": {
   "display_name": "Python 3",
   "language": "python",
   "name": "python3"
  },
  "language_info": {
   "codemirror_mode": {
    "name": "ipython",
    "version": 3
   },
   "file_extension": ".py",
   "mimetype": "text/x-python",
   "name": "python",
   "nbconvert_exporter": "python",
   "pygments_lexer": "ipython3",
   "version": "3.11.5"
  }
 },
 "nbformat": 4,
 "nbformat_minor": 2
}
