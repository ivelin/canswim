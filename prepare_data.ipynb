{
 "cells": [
  {
   "cell_type": "code",
   "execution_count": null,
   "metadata": {},
   "outputs": [],
   "source": [
    "%load_ext autoreload\n",
    "%autoreload 2"
   ]
  },
  {
   "cell_type": "code",
   "execution_count": null,
   "metadata": {},
   "outputs": [],
   "source": [
    "# pip install -r requirements.txt\n",
    "# !pip install -e ./\n",
    "\n",
    "import sys\n",
    "!{sys.executable} -m pip install -e ./\n"
   ]
  },
  {
   "cell_type": "markdown",
   "metadata": {},
   "source": [
    "Explore stock market dataset from Yahoo Finance"
   ]
  },
  {
   "cell_type": "code",
   "execution_count": null,
   "metadata": {},
   "outputs": [],
   "source": [
    "import yfinance as yf\n",
    "import pandas as pd\n",
    "from pathlib import Path\n",
    "import numpy as np"
   ]
  },
  {
   "cell_type": "code",
   "execution_count": null,
   "metadata": {},
   "outputs": [],
   "source": [
    "from dotenv import load_dotenv\n",
    "import os\n",
    "\n",
    "load_dotenv()\n",
    "\n",
    "FMP_API_KEY=os.getenv(\"FMP_API_KEY\")\n",
    "\n",
    "print(f'FMP_API_KEY={FMP_API_KEY!= None}')"
   ]
  },
  {
   "cell_type": "markdown",
   "metadata": {},
   "source": [
    "## Load list of IBD Growth Stocks"
   ]
  },
  {
   "cell_type": "code",
   "execution_count": null,
   "metadata": {},
   "outputs": [],
   "source": [
    "all_stocks_file = 'all_stocks.csv'"
   ]
  },
  {
   "cell_type": "code",
   "execution_count": null,
   "metadata": {},
   "outputs": [],
   "source": [
    "all_stock_set = set()\n",
    "stock_files = [\n",
    "    'IBD50.csv', \n",
    "    'IBD250.csv', \n",
    "    'IBD250_18Jan2024.csv', \n",
    "    'ibdlive_picks.csv', \n",
    "    'russell2000_iwm_holdings.csv', \n",
    "    'sp500_ivv_holdings.csv',\n",
    "    'nasdaq100_cndx_holdings.csv',\n",
    "    all_stocks_file\n",
    "    ]\n",
    "for f in stock_files:\n",
    "    fp = f'data/{f}'\n",
    "    if Path(fp).is_file():\n",
    "        stocks = pd.read_csv(fp)\n",
    "        print(f'loaded {len(stocks)} symbols from {fp}')\n",
    "        stock_set = set(stocks['Symbol'])\n",
    "        print(f'{len(stock_set)} symbols in stock set')\n",
    "        all_stock_set |= stock_set\n",
    "        print(f'total symbols loaded: {len(all_stock_set)}')\n",
    "    else:\n",
    "        print(f'{fp} not found.')\n"
   ]
  },
  {
   "cell_type": "code",
   "execution_count": null,
   "metadata": {},
   "outputs": [],
   "source": [
    "len(all_stock_set), all_stock_set"
   ]
  },
  {
   "cell_type": "code",
   "execution_count": null,
   "metadata": {},
   "outputs": [],
   "source": [
    "stocks_ticker_set = all_stock_set"
   ]
  },
  {
   "cell_type": "code",
   "execution_count": null,
   "metadata": {},
   "outputs": [],
   "source": [
    "growth_stocks_df = pd.DataFrame()\n",
    "growth_stocks_df['Symbol'] = list(stocks_ticker_set)\n",
    "growth_stocks_df = growth_stocks_df.set_index(['Symbol'])\n",
    "growth_stocks_df.index = growth_stocks_df.index.drop_duplicates()\n",
    "# drop known junk symbols from the data feed\n",
    "junk = ['MSFUT', 'GEFB', 'METCV', 'SGAFT', 'NQH4', 'XTSLA', '-', 'PDLI', 'ADRO', 'ICSUAGD', 'BFB', 'GTXI', 'P5N994', 'LGFB', 'MLIFT', 'ESH4', 'LGFA', 'MOGA', 'PBRA', 'BRKB', 'RTYH4', '\\xa0', 'CRDA']\n",
    "growth_stocks_df.index = growth_stocks_df.index.drop(junk)\n",
    "growth_stocks_df"
   ]
  },
  {
   "cell_type": "code",
   "execution_count": null,
   "metadata": {},
   "outputs": [],
   "source": [
    "growth_stocks_df.to_csv(f'data/{all_stocks_file}')"
   ]
  },
  {
   "cell_type": "markdown",
   "metadata": {},
   "source": [
    "## Prepare broad market indicies"
   ]
  },
  {
   "cell_type": "code",
   "execution_count": null,
   "metadata": {},
   "outputs": [],
   "source": [
    "# Capture S&P500, NASDAQ100 and Russell 200 indecies and their equal weighted counter parts\n",
    "# As well as VIX volatility index, DYX US Dollar index, TNX US 12 Weeks Treasury Yield, 5 Years Treasury Yield and 10 Year Treasuries Yield\n",
    "broad_market_indicies = '^SPX ^SPXEW ^NDX ^NDXE ^RUT ^R2ESC ^VIX DX-Y.NYB ^IRX ^FVX ^TNX'"
   ]
  },
  {
   "cell_type": "code",
   "execution_count": null,
   "metadata": {},
   "outputs": [],
   "source": [
    "broad_market = yf.download(broad_market_indicies, period='max', group_by='tickers') \n",
    "broad_market"
   ]
  },
  {
   "cell_type": "code",
   "execution_count": null,
   "metadata": {},
   "outputs": [],
   "source": [
    "broad_market.to_csv('data/broad_market.csv.bz2', index='Date')"
   ]
  },
  {
   "cell_type": "markdown",
   "metadata": {},
   "source": [
    "## Prepare Sector Indicies"
   ]
  },
  {
   "cell_type": "code",
   "execution_count": null,
   "metadata": {},
   "outputs": [],
   "source": [
    "sector_indicies = 'XLE ^SP500-15 ^SP500-20 ^SP500-25 ^SP500-30 ^SP500-35 ^SP500-40 ^SP500-45 ^SP500-50 ^SP500-55 ^SP500-60'"
   ]
  },
  {
   "cell_type": "code",
   "execution_count": null,
   "metadata": {},
   "outputs": [],
   "source": [
    "sectors = yf.download(sector_indicies, period='max') \n",
    "sectors"
   ]
  },
  {
   "cell_type": "code",
   "execution_count": null,
   "metadata": {},
   "outputs": [],
   "source": [
    "sectors.to_csv('data/sectors.csv.bz2')"
   ]
  },
  {
   "cell_type": "markdown",
   "metadata": {},
   "source": [
    "## Prepare stocks price data"
   ]
  },
  {
   "cell_type": "code",
   "execution_count": null,
   "metadata": {},
   "outputs": [],
   "source": [
    "price_interval = \"1d\" # \"1wk\""
   ]
  },
  {
   "cell_type": "code",
   "execution_count": null,
   "metadata": {},
   "outputs": [],
   "source": [
    "stock_price_data = yf.download(all_stock_set, period='max', group_by='tickers', interval=price_interval) \n",
    "stock_price_data"
   ]
  },
  {
   "cell_type": "code",
   "execution_count": null,
   "metadata": {},
   "outputs": [],
   "source": [
    "stock_price_data.columns.levels"
   ]
  },
  {
   "cell_type": "code",
   "execution_count": null,
   "metadata": {},
   "outputs": [],
   "source": [
    "stock_price_data.tail(20)"
   ]
  },
  {
   "cell_type": "code",
   "execution_count": null,
   "metadata": {},
   "outputs": [],
   "source": [
    "stock_price_data.dropna(how='all')"
   ]
  },
  {
   "cell_type": "code",
   "execution_count": null,
   "metadata": {},
   "outputs": [],
   "source": [
    "jan24 = stock_price_data[stock_price_data.index.get_level_values('Date') == pd.Timestamp('2024-01-24')]\n"
   ]
  },
  {
   "cell_type": "code",
   "execution_count": null,
   "metadata": {},
   "outputs": [],
   "source": [
    "jan24"
   ]
  },
  {
   "cell_type": "code",
   "execution_count": null,
   "metadata": {},
   "outputs": [],
   "source": [
    "jan24nona = jan24.dropna(axis=1)"
   ]
  },
  {
   "cell_type": "code",
   "execution_count": null,
   "metadata": {},
   "outputs": [],
   "source": [
    "jan24nona"
   ]
  },
  {
   "cell_type": "code",
   "execution_count": null,
   "metadata": {},
   "outputs": [],
   "source": [
    "stock_price_data['ADV'].dropna()"
   ]
  },
  {
   "cell_type": "code",
   "execution_count": null,
   "metadata": {},
   "outputs": [],
   "source": [
    "stock_price_data['VRTS'].dropna()"
   ]
  },
  {
   "cell_type": "code",
   "execution_count": null,
   "metadata": {},
   "outputs": [],
   "source": [
    "stock_price_data['BHVN'].dropna()"
   ]
  },
  {
   "cell_type": "code",
   "execution_count": null,
   "metadata": {},
   "outputs": [],
   "source": [
    "bhvn = stock_price_data['BHVN']"
   ]
  },
  {
   "cell_type": "code",
   "execution_count": null,
   "metadata": {},
   "outputs": [],
   "source": [
    "bhvn"
   ]
  },
  {
   "cell_type": "code",
   "execution_count": null,
   "metadata": {},
   "outputs": [],
   "source": [
    "bhvn.dropna(how=\"all\")"
   ]
  },
  {
   "cell_type": "code",
   "execution_count": null,
   "metadata": {},
   "outputs": [],
   "source": [
    "price_hist_file = f'data/all_stocks_price_hist_{price_interval}.csv.bz2'"
   ]
  },
  {
   "cell_type": "code",
   "execution_count": null,
   "metadata": {},
   "outputs": [],
   "source": [
    "stock_price_data.to_csv(price_hist_file, index='Date')"
   ]
  },
  {
   "cell_type": "code",
   "execution_count": null,
   "metadata": {},
   "outputs": [],
   "source": [
    "# stock_price_data.to_csv('data/all_stocks_price_hist.bak.csv', index='Date')"
   ]
  },
  {
   "cell_type": "code",
   "execution_count": null,
   "metadata": {},
   "outputs": [],
   "source": [
    "stock_price_data_loaded = pd.read_csv(price_hist_file, header=[0, 1], index_col=0)\n",
    "stock_price_data_loaded"
   ]
  },
  {
   "cell_type": "code",
   "execution_count": null,
   "metadata": {},
   "outputs": [],
   "source": [
    "for ticker in stock_price_data_loaded.columns.levels[0][:2]:\n",
    "    print(f'ticker: {ticker}')\n",
    "    ticker_data = stock_price_data_loaded[ticker]\n",
    "    print(f'ticker historic data: {ticker_data}')\n",
    "    # remove missing values\n",
    "    ticker_data = ticker_data.dropna()\n",
    "    print(f'ticker historic data without missing data: {ticker_data}')\n"
   ]
  },
  {
   "cell_type": "markdown",
   "metadata": {},
   "source": [
    "## Prepare historical stock sales and earnings data"
   ]
  },
  {
   "cell_type": "code",
   "execution_count": null,
   "metadata": {},
   "outputs": [],
   "source": [
    "import fmpsdk\n",
    "\n",
    "# Company Valuation Methods\n",
    "symbol: str = \"AAPL\"\n",
    "symbols: [\"AAPL\", \"CSCO\", \"QQQQ\"]\n",
    "exchange: str = \"NYSE\"\n",
    "exchanges: [\"NYSE\", \"NASDAQ\"]\n",
    "query: str = \"AA\"\n",
    "limit: int = 3\n",
    "period: str = \"quarter\"\n",
    "download: bool = True\n",
    "market_cap_more_than: int = 1000000000\n",
    "beta_more_than: int = 1\n",
    "volume_more_than: int = 10000\n",
    "sector: str = \"Technology\"\n",
    "dividend_more_than: int = 0\n",
    "industry: str = \"Software\"\n",
    "filing_type: str = \"10-K\"\n",
    "print(f\"Company Profile: {fmpsdk.company_profile(apikey=FMP_API_KEY, symbol=symbol)=}\")\n"
   ]
  },
  {
   "cell_type": "code",
   "execution_count": null,
   "metadata": {},
   "outputs": [],
   "source": [
    "earnings_all_df = pd.DataFrame()\n",
    "for ticker in stocks_ticker_set: # ['AAON']: # \n",
    "    earnings = fmpsdk.historical_earning_calendar(apikey=FMP_API_KEY, symbol=ticker, limit=-1)\n",
    "    if earnings is not None and len(earnings) > 0:\n",
    "        edf = pd.DataFrame(earnings)\n",
    "        edf['date'] = pd.to_datetime(edf['date'])\n",
    "        edf = edf.set_index(['symbol', 'date'])\n",
    "        # edf = edf.pivot(columns='symbol')\n",
    "        # edf.swaplevel(i=0,j=1, axis=0)\n",
    "        # edf.drop(columns=['symbol'])\n",
    "        earnings_all_df = pd.concat([earnings_all_df, edf])\n",
    "        n_earnings = len(earnings)\n",
    "        # print(f\"Total earnings reports for {ticker}: {n_earnings}\")\n",
    "#    earliest_earn = earnings[-1] if len(earnings > 0 else 'None')\n",
    "#    print(f\"Earliest earnings report for {ticker}: {earliest_earn}\")\n"
   ]
  },
  {
   "cell_type": "code",
   "execution_count": null,
   "metadata": {},
   "outputs": [],
   "source": [
    "earnings"
   ]
  },
  {
   "cell_type": "code",
   "execution_count": null,
   "metadata": {},
   "outputs": [],
   "source": [
    "aaon = earnings_all_df.loc[['AAON']]"
   ]
  },
  {
   "cell_type": "code",
   "execution_count": null,
   "metadata": {},
   "outputs": [],
   "source": [
    "aaon"
   ]
  },
  {
   "cell_type": "code",
   "execution_count": null,
   "metadata": {},
   "outputs": [],
   "source": [
    "len(earnings_all_df)"
   ]
  },
  {
   "cell_type": "code",
   "execution_count": null,
   "metadata": {},
   "outputs": [],
   "source": [
    "earnings_all_df\n"
   ]
  },
  {
   "cell_type": "code",
   "execution_count": null,
   "metadata": {},
   "outputs": [],
   "source": [
    "len(earnings_all_df.index.levels[0])\n"
   ]
  },
  {
   "cell_type": "code",
   "execution_count": null,
   "metadata": {},
   "outputs": [],
   "source": [
    "earnings_file = 'data/earnings_calendar.csv.bz2'"
   ]
  },
  {
   "cell_type": "code",
   "execution_count": null,
   "metadata": {},
   "outputs": [],
   "source": []
  },
  {
   "cell_type": "code",
   "execution_count": null,
   "metadata": {},
   "outputs": [],
   "source": [
    "earnings_all_df.to_csv(earnings_file)"
   ]
  },
  {
   "cell_type": "markdown",
   "metadata": {},
   "source": [
    "### Read back data and verify it"
   ]
  },
  {
   "cell_type": "code",
   "execution_count": null,
   "metadata": {},
   "outputs": [],
   "source": [
    "import pandas as pd\n",
    "\n",
    "earnings_loaded_df = pd.read_csv('data/earnings_calendar.csv.bz2', index_col=['symbol', 'date'])\n",
    "print(earnings_loaded_df)"
   ]
  },
  {
   "cell_type": "markdown",
   "metadata": {},
   "source": [
    "## Prepare historical dividends\n",
    "  * This is secondary information since growth stocks usually do not have dividends and rarely have splits\n",
    "  * Additionally the dividends and split information is partially reflected in Adj Close of price history data"
   ]
  },
  {
   "cell_type": "code",
   "execution_count": null,
   "metadata": {},
   "outputs": [],
   "source": [
    "def fetch_dividends_history():\n",
    "    divs_hist_all_df = pd.DataFrame()\n",
    "    for ticker in stocks_ticker_set: # ['AAON']:\n",
    "        divs_hist = fmpsdk.historical_stock_dividend(apikey=FMP_API_KEY, symbol=ticker)\n",
    "        # print(f\"Loaded historical dividends for {ticker}: \\n{divs_hist}\")\n",
    "        print(f\"Loaded {len(divs_hist['historical'])} historical dividends for {ticker}\")\n",
    "        if divs_hist['historical'] is not None and len(divs_hist['historical']) > 0:\n",
    "            dh_df_tmp = pd.DataFrame.from_dict(data=divs_hist['historical'])\n",
    "            # print(f\"Historical dividends for {ticker} dataframe: \\n{dh_df_tmp.head()}\")\n",
    "            dh_df_tmp['symbol'] = ticker\n",
    "            dh_df = dh_df_tmp\n",
    "            # print(f\"Historical dividends for {ticker} dataframe: \\n{dh_df_tmp.head()}\")\n",
    "            # print(f\"Historical dividends for {ticker} full dataframe: \\n{dh_df.head()}\")\n",
    "            dh_df['date'] = pd.to_datetime(dh_df['date'])\n",
    "            dh_df = dh_df.set_index(['symbol', 'date'])\n",
    "            n_divs_hist = len(dh_df)\n",
    "            print(f\"Total dividends history reports for {ticker}: {n_divs_hist}\")\n",
    "            # print(f\"Historical dividends for {ticker} full dataframe: \\n{dh_df}\")\n",
    "            divs_hist_all_df = pd.concat([divs_hist_all_df, dh_df])\n",
    "    return divs_hist_all_df\n"
   ]
  },
  {
   "cell_type": "code",
   "execution_count": null,
   "metadata": {},
   "outputs": [],
   "source": [
    "# divs_hist_file = 'data/dividends_history.csv.bz2'"
   ]
  },
  {
   "cell_type": "code",
   "execution_count": null,
   "metadata": {},
   "outputs": [],
   "source": [
    "# divs_hist_all_df.to_csv(divs_hist_file)"
   ]
  },
  {
   "cell_type": "markdown",
   "metadata": {},
   "source": [
    "### Read back data and verify it"
   ]
  },
  {
   "cell_type": "code",
   "execution_count": null,
   "metadata": {},
   "outputs": [],
   "source": [
    "import pandas as pd\n",
    "\n",
    "earnings_loaded_df = pd.read_csv('data/earnings_calendar.csv.bz2', index_col=['symbol', 'date'])\n",
    "print(earnings_loaded_df)"
   ]
  },
  {
   "cell_type": "markdown",
   "metadata": {},
   "source": [
    "## Prepare key metrics data for company fundamentals"
   ]
  },
  {
   "cell_type": "code",
   "execution_count": null,
   "metadata": {},
   "outputs": [],
   "source": [
    "\n",
    "keymetrics_all_df = pd.DataFrame()\n",
    "for ticker in stocks_ticker_set:\n",
    "    kms = fmpsdk.key_metrics(apikey=FMP_API_KEY, symbol=ticker, period='quarter', limit=-1)\n",
    "    if kms is not None and len(kms) > 0:\n",
    "        kms_df = pd.DataFrame(kms)\n",
    "        kms_df['date'] = pd.to_datetime(kms_df['date'])\n",
    "        kms_df = kms_df.set_index(['symbol', 'date'])\n",
    "        # print(f\"Key metrics for {ticker} sample: \\n{kms_df.columns}\")\n",
    "        keymetrics_all_df = pd.concat([keymetrics_all_df, kms_df])\n",
    "        # print(f\"Key metrics concatenated {ticker}: \\n{keymetrics_all_df.columns}\")\n",
    "        n_kms = len(kms_df)\n",
    "        print(f\"Total key metrics reports for {ticker}: {n_kms}\")\n",
    "    else:\n",
    "        print(f\"No {ticker} key metrics reports: kms={kms}\")"
   ]
  },
  {
   "cell_type": "code",
   "execution_count": null,
   "metadata": {},
   "outputs": [],
   "source": [
    "keymetrics_all_df"
   ]
  },
  {
   "cell_type": "code",
   "execution_count": null,
   "metadata": {},
   "outputs": [],
   "source": [
    "kms_file = 'data/keymetrics_history.csv.bz2'\n",
    "keymetrics_all_df.to_csv(kms_file)"
   ]
  },
  {
   "cell_type": "markdown",
   "metadata": {},
   "source": [
    "## Prepare institutional ownership data"
   ]
  },
  {
   "cell_type": "code",
   "execution_count": null,
   "metadata": {},
   "outputs": [],
   "source": [
    "\n",
    "from fmpsdk.settings import DEFAULT_LIMIT, SEC_RSS_FEEDS_FILENAME, BASE_URL_v3\n",
    "from fmpsdk.url_methods import __return_json_v4\n",
    "import typing\n",
    "\n",
    "\n",
    "def institutional_symbol_ownership(\n",
    "    apikey: str, \n",
    "    symbol: str, \n",
    "    limit: int,\n",
    "    includeCurrentQuarter: bool = False,\n",
    ") -> typing.Optional[typing.List[typing.Dict]]:\n",
    "    \"\"\"\n",
    "    Query FMP /institutional-ownership/ API.\n",
    "\n",
    "    :param apikey: Your API key.\n",
    "    :param symbol: Company ticker.\n",
    "    :param limit: up to how many quarterly reports to return.\n",
    "    :param includeCurrentQuarter: Whether to include any available data in the current quarter.\n",
    "    :return: A list of dictionaries.\n",
    "    \"\"\"\n",
    "    path = f\"institutional-ownership/symbol-ownership\"\n",
    "    query_vars = {\"symbol\": symbol, \"apikey\": apikey, \"includeCurrentQuarter\": includeCurrentQuarter, \"limit\": limit}\n",
    "    return __return_json_v4(path=path, query_vars=query_vars)\n"
   ]
  },
  {
   "cell_type": "code",
   "execution_count": null,
   "metadata": {},
   "outputs": [],
   "source": [
    "\n",
    "inst_ownership_all_df = pd.DataFrame()\n",
    "for ticker in stocks_ticker_set:\n",
    "    inst_ownership = institutional_symbol_ownership(apikey=FMP_API_KEY, symbol=ticker, limit=-1)\n",
    "    # print(\"inst_ownership: \", inst_ownership)\n",
    "    if inst_ownership is not None and len(inst_ownership) > 0:\n",
    "        inst_ownership_df = pd.DataFrame(inst_ownership)\n",
    "        inst_ownership_df['date'] = pd.to_datetime(inst_ownership_df['date'])\n",
    "        inst_ownership_df = inst_ownership_df.set_index(['symbol', 'date'])\n",
    "        # print(f\"Institutional ownership for {ticker} # columns: \\n{len(inst_ownership_df.columns)}\")\n",
    "        n_iown = len(inst_ownership_df)\n",
    "        print(f\"Total institutional ownership reports for {ticker}: {n_iown}\")\n",
    "        inst_ownership_all_df = pd.concat([inst_ownership_all_df, inst_ownership_df])\n",
    "        # print(f\"Institutional ownership concatenated {ticker} # columns: \\n{inst_ownership_all_df.columns}\")\n",
    "    else:\n",
    "        print(f\"No {ticker} institutional ownership reports: inst_ownership={inst_ownership}\")"
   ]
  },
  {
   "cell_type": "code",
   "execution_count": null,
   "metadata": {},
   "outputs": [],
   "source": [
    "inst_ownership_all_df"
   ]
  },
  {
   "cell_type": "code",
   "execution_count": null,
   "metadata": {},
   "outputs": [],
   "source": [
    "bad1 = inst_ownership_all_df[15707:15709]"
   ]
  },
  {
   "cell_type": "code",
   "execution_count": null,
   "metadata": {},
   "outputs": [],
   "source": [
    "bad1[['totalPutsChange', 'totalCallsChange']]"
   ]
  },
  {
   "cell_type": "code",
   "execution_count": null,
   "metadata": {},
   "outputs": [],
   "source": [
    "offenders = inst_ownership_all_df[~inst_ownership_all_df.applymap(np.isreal).all(1)]"
   ]
  },
  {
   "cell_type": "code",
   "execution_count": null,
   "metadata": {},
   "outputs": [],
   "source": [
    "offenders[['totalPutsChange', 'totalCallsChange']]"
   ]
  },
  {
   "cell_type": "code",
   "execution_count": null,
   "metadata": {},
   "outputs": [],
   "source": [
    "import numpy as np\n",
    "\n",
    "def check_int(value):\n",
    "    try:\n",
    "        int(value)\n",
    "        return np.NaN\n",
    "    except ValueError:\n",
    "        return value"
   ]
  },
  {
   "cell_type": "code",
   "execution_count": null,
   "metadata": {},
   "outputs": [],
   "source": [
    "offenders['totalPutsChange'].apply(check_int)"
   ]
  },
  {
   "cell_type": "code",
   "execution_count": null,
   "metadata": {},
   "outputs": [],
   "source": []
  },
  {
   "cell_type": "code",
   "execution_count": null,
   "metadata": {},
   "outputs": [],
   "source": [
    "nans = offenders.astype({'totalPutsChange': 'int64', 'totalCallsChange': 'int64'}, errors=\"ignore\").isna()"
   ]
  },
  {
   "cell_type": "code",
   "execution_count": null,
   "metadata": {},
   "outputs": [],
   "source": [
    "len(offenders[['totalPutsChange']])"
   ]
  },
  {
   "cell_type": "code",
   "execution_count": null,
   "metadata": {},
   "outputs": [],
   "source": [
    "inst_ownership_all_df.dtypes"
   ]
  },
  {
   "cell_type": "code",
   "execution_count": null,
   "metadata": {},
   "outputs": [],
   "source": [
    "inst_ownership_file = 'data/institutional_symbol_ownership.csv.bz2'\n",
    "inst_ownership_all_df.to_csv(inst_ownership_file)"
   ]
  },
  {
   "cell_type": "markdown",
   "metadata": {},
   "source": [
    "## Prepare forward looking analyst estimates to be used as future covariates"
   ]
  },
  {
   "cell_type": "code",
   "execution_count": null,
   "metadata": {},
   "outputs": [],
   "source": [
    "DEFAULT_LIMIT=-1\n",
    "import typing\n",
    "from fmpsdk.url_methods import __return_json_v3, __validate_period\n",
    "\n",
    "\n",
    "def analyst_estimates(\n",
    "    apikey: str, \n",
    "    symbol: str, \n",
    "    period: str = \"annual\",\n",
    "    limit: int = DEFAULT_LIMIT\n",
    ") -> typing.Optional[typing.List[typing.Dict]]:\n",
    "    \"\"\"\n",
    "    Query FMP /analyst-estimates/ API.\n",
    "\n",
    "    :param apikey: Your API key.\n",
    "    :param symbol: Company ticker.\n",
    "    :param period: 'annual' or 'quarter'\n",
    "    :param limit: Number of rows to return.\n",
    "    :return: A list of dictionaries.\n",
    "    \"\"\"\n",
    "    path = f\"/analyst-estimates/{symbol}\"\n",
    "    query_vars = {\n",
    "        \"apikey\": apikey,\n",
    "        \"symbol\": symbol,\n",
    "        \"period\": __validate_period(value=period),\n",
    "        \"limit\": limit,\n",
    "    }\n",
    "    return __return_json_v3(path=path, query_vars=query_vars)\n",
    "\n"
   ]
  },
  {
   "cell_type": "code",
   "execution_count": null,
   "metadata": {},
   "outputs": [],
   "source": [
    "\n",
    "def fetch_estimates(period=None):\n",
    "    assert period in ['quarter', 'annual']\n",
    "    estimates_all_df = pd.DataFrame()\n",
    "    for ticker in stocks_ticker_set: # ['ALTR']: \n",
    "        est = analyst_estimates(apikey=FMP_API_KEY, symbol=ticker, period=period, limit=-1)\n",
    "        # print('est:', est)\n",
    "        if est is not None and len(est) > 0:\n",
    "            est_df = pd.DataFrame(est)\n",
    "            est_df['date'] = pd.to_datetime(est_df['date'])\n",
    "            est_df = est_df.set_index(['symbol', 'date'])\n",
    "            # print(f\"Analyst estimates for {ticker} sample: \\n{est_df.columns}\")\n",
    "            estimates_all_df = pd.concat([estimates_all_df, est_df])\n",
    "            # print(f\"Key metrics concatenated {ticker}: \\n{estimates_all_df.columns}\")\n",
    "            n_est = len(est_df)\n",
    "            print(f\"{n_est} total {ticker} {period} analyst estimates reports\")\n",
    "        else:\n",
    "            print(f\"No {ticker} {period} analyst estimates reports: est={est}\")\n",
    "\n",
    "    return estimates_all_df\n",
    "\n"
   ]
  },
  {
   "cell_type": "code",
   "execution_count": null,
   "metadata": {},
   "outputs": [],
   "source": [
    "# 'TW' in stocks_ticker_set"
   ]
  },
  {
   "cell_type": "code",
   "execution_count": null,
   "metadata": {},
   "outputs": [],
   "source": [
    "for p in ['annual', 'quarter']:\n",
    "    estimates_all_df = fetch_estimates(p)\n",
    "    est_file_name= f'data/analyst_estimates_{p}.csv.bz2'    \n",
    "    estimates_all_df.to_csv(est_file_name)\n",
    "    print(f'all {p} estimates count:', len(estimates_all_df.index))\n",
    "    "
   ]
  },
  {
   "cell_type": "code",
   "execution_count": null,
   "metadata": {},
   "outputs": [],
   "source": []
  }
 ],
 "metadata": {
  "kernelspec": {
   "display_name": "Python 3",
   "language": "python",
   "name": "python3"
  },
  "language_info": {
   "codemirror_mode": {
    "name": "ipython",
    "version": 3
   },
   "file_extension": ".py",
   "mimetype": "text/x-python",
   "name": "python",
   "nbconvert_exporter": "python",
   "pygments_lexer": "ipython3",
   "version": "3.11.5"
  }
 },
 "nbformat": 4,
 "nbformat_minor": 2
}
