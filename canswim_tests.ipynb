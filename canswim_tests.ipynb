{
 "cells": [
  {
   "cell_type": "markdown",
   "metadata": {},
   "source": [
    "# Canswim testing notebook"
   ]
  },
  {
   "cell_type": "code",
   "execution_count": 2,
   "metadata": {},
   "outputs": [],
   "source": [
    "\n",
    "%load_ext autoreload\n",
    "%autoreload 2\n"
   ]
  },
  {
   "cell_type": "code",
   "execution_count": 3,
   "metadata": {},
   "outputs": [
    {
     "name": "stdout",
     "output_type": "stream",
     "text": [
      "Obtaining file:///home/ivelin/canswim\n",
      "  Preparing metadata (setup.py) ... \u001b[?25ldone\n",
      "\u001b[?25hRequirement already satisfied: darts in /home/ivelin/anaconda3/envs/canswim/lib/python3.11/site-packages (from canswim==0.0.1) (0.27.2)\n",
      "Requirement already satisfied: yfinance in /home/ivelin/anaconda3/envs/canswim/lib/python3.11/site-packages (from canswim==0.0.1) (0.2.33)\n",
      "Requirement already satisfied: fmpsdk in /home/ivelin/anaconda3/envs/canswim/lib/python3.11/site-packages (from canswim==0.0.1) (20230623.0)\n",
      "Requirement already satisfied: optuna==3.4.0 in /home/ivelin/anaconda3/envs/canswim/lib/python3.11/site-packages (from canswim==0.0.1) (3.4.0)\n",
      "Requirement already satisfied: huggingface_hub in /home/ivelin/anaconda3/envs/canswim/lib/python3.11/site-packages (from canswim==0.0.1) (0.20.3)\n",
      "Requirement already satisfied: alembic>=1.5.0 in /home/ivelin/anaconda3/envs/canswim/lib/python3.11/site-packages (from optuna==3.4.0->canswim==0.0.1) (1.13.1)\n",
      "Requirement already satisfied: colorlog in /home/ivelin/anaconda3/envs/canswim/lib/python3.11/site-packages (from optuna==3.4.0->canswim==0.0.1) (6.8.2)\n",
      "Requirement already satisfied: numpy in /home/ivelin/anaconda3/envs/canswim/lib/python3.11/site-packages (from optuna==3.4.0->canswim==0.0.1) (1.26.3)\n",
      "Requirement already satisfied: packaging>=20.0 in /home/ivelin/anaconda3/envs/canswim/lib/python3.11/site-packages (from optuna==3.4.0->canswim==0.0.1) (23.2)\n",
      "Requirement already satisfied: sqlalchemy>=1.3.0 in /home/ivelin/anaconda3/envs/canswim/lib/python3.11/site-packages (from optuna==3.4.0->canswim==0.0.1) (2.0.25)\n",
      "Requirement already satisfied: tqdm in /home/ivelin/anaconda3/envs/canswim/lib/python3.11/site-packages (from optuna==3.4.0->canswim==0.0.1) (4.66.1)\n",
      "Requirement already satisfied: PyYAML in /home/ivelin/anaconda3/envs/canswim/lib/python3.11/site-packages (from optuna==3.4.0->canswim==0.0.1) (6.0.1)\n",
      "Requirement already satisfied: holidays>=0.11.1 in /home/ivelin/anaconda3/envs/canswim/lib/python3.11/site-packages (from darts->canswim==0.0.1) (0.39)\n",
      "Requirement already satisfied: joblib>=0.16.0 in /home/ivelin/anaconda3/envs/canswim/lib/python3.11/site-packages (from darts->canswim==0.0.1) (1.3.2)\n",
      "Requirement already satisfied: matplotlib>=3.3.0 in /home/ivelin/anaconda3/envs/canswim/lib/python3.11/site-packages (from darts->canswim==0.0.1) (3.8.2)\n",
      "Requirement already satisfied: nfoursid>=1.0.0 in /home/ivelin/anaconda3/envs/canswim/lib/python3.11/site-packages (from darts->canswim==0.0.1) (1.0.1)\n",
      "Requirement already satisfied: pmdarima>=1.8.0 in /home/ivelin/anaconda3/envs/canswim/lib/python3.11/site-packages (from darts->canswim==0.0.1) (2.0.4)\n",
      "Requirement already satisfied: pyod>=0.9.5 in /home/ivelin/anaconda3/envs/canswim/lib/python3.11/site-packages (from darts->canswim==0.0.1) (1.1.2)\n",
      "Requirement already satisfied: requests>=2.22.0 in /home/ivelin/anaconda3/envs/canswim/lib/python3.11/site-packages (from darts->canswim==0.0.1) (2.31.0)\n",
      "Requirement already satisfied: scikit-learn>=1.0.1 in /home/ivelin/anaconda3/envs/canswim/lib/python3.11/site-packages (from darts->canswim==0.0.1) (1.3.2)\n",
      "Requirement already satisfied: scipy>=1.3.2 in /home/ivelin/anaconda3/envs/canswim/lib/python3.11/site-packages (from darts->canswim==0.0.1) (1.11.4)\n",
      "Requirement already satisfied: shap>=0.40.0 in /home/ivelin/anaconda3/envs/canswim/lib/python3.11/site-packages (from darts->canswim==0.0.1) (0.44.0)\n",
      "Requirement already satisfied: statsforecast>=1.4 in /home/ivelin/anaconda3/envs/canswim/lib/python3.11/site-packages (from darts->canswim==0.0.1) (1.7.0)\n",
      "Requirement already satisfied: statsmodels>=0.14.0 in /home/ivelin/anaconda3/envs/canswim/lib/python3.11/site-packages (from darts->canswim==0.0.1) (0.14.1)\n",
      "Requirement already satisfied: tbats>=1.1.0 in /home/ivelin/anaconda3/envs/canswim/lib/python3.11/site-packages (from darts->canswim==0.0.1) (1.1.3)\n",
      "Requirement already satisfied: typing-extensions in /home/ivelin/anaconda3/envs/canswim/lib/python3.11/site-packages (from darts->canswim==0.0.1) (4.9.0)\n",
      "Requirement already satisfied: xarray>=0.17.0 in /home/ivelin/anaconda3/envs/canswim/lib/python3.11/site-packages (from darts->canswim==0.0.1) (2023.12.0)\n",
      "Requirement already satisfied: xgboost>=1.6.0 in /home/ivelin/anaconda3/envs/canswim/lib/python3.11/site-packages (from darts->canswim==0.0.1) (2.0.3)\n",
      "Requirement already satisfied: pytorch-lightning<=2.1.2,>=1.5.0 in /home/ivelin/anaconda3/envs/canswim/lib/python3.11/site-packages (from darts->canswim==0.0.1) (2.1.2)\n",
      "Requirement already satisfied: tensorboardX>=2.1 in /home/ivelin/anaconda3/envs/canswim/lib/python3.11/site-packages (from darts->canswim==0.0.1) (2.6.2.2)\n",
      "Requirement already satisfied: torch>=1.8.0 in /home/ivelin/anaconda3/envs/canswim/lib/python3.11/site-packages (from darts->canswim==0.0.1) (2.1.2)\n",
      "Requirement already satisfied: pandas>=1.0.5 in /home/ivelin/anaconda3/envs/canswim/lib/python3.11/site-packages (from darts->canswim==0.0.1) (2.1.4)\n",
      "Requirement already satisfied: python-dotenv in /home/ivelin/anaconda3/envs/canswim/lib/python3.11/site-packages (from fmpsdk->canswim==0.0.1) (1.0.0)\n",
      "Requirement already satisfied: filelock in /home/ivelin/anaconda3/envs/canswim/lib/python3.11/site-packages (from huggingface_hub->canswim==0.0.1) (3.13.1)\n",
      "Requirement already satisfied: fsspec>=2023.5.0 in /home/ivelin/anaconda3/envs/canswim/lib/python3.11/site-packages (from huggingface_hub->canswim==0.0.1) (2023.12.2)\n",
      "Requirement already satisfied: multitasking>=0.0.7 in /home/ivelin/anaconda3/envs/canswim/lib/python3.11/site-packages (from yfinance->canswim==0.0.1) (0.0.11)\n",
      "Requirement already satisfied: lxml>=4.9.1 in /home/ivelin/anaconda3/envs/canswim/lib/python3.11/site-packages (from yfinance->canswim==0.0.1) (5.0.0)\n",
      "Requirement already satisfied: appdirs>=1.4.4 in /home/ivelin/anaconda3/envs/canswim/lib/python3.11/site-packages (from yfinance->canswim==0.0.1) (1.4.4)\n",
      "Requirement already satisfied: pytz>=2022.5 in /home/ivelin/anaconda3/envs/canswim/lib/python3.11/site-packages (from yfinance->canswim==0.0.1) (2023.3.post1)\n",
      "Requirement already satisfied: frozendict>=2.3.4 in /home/ivelin/anaconda3/envs/canswim/lib/python3.11/site-packages (from yfinance->canswim==0.0.1) (2.4.0)\n",
      "Requirement already satisfied: peewee>=3.16.2 in /home/ivelin/anaconda3/envs/canswim/lib/python3.11/site-packages (from yfinance->canswim==0.0.1) (3.17.0)\n",
      "Requirement already satisfied: beautifulsoup4>=4.11.1 in /home/ivelin/anaconda3/envs/canswim/lib/python3.11/site-packages (from yfinance->canswim==0.0.1) (4.12.2)\n",
      "Requirement already satisfied: html5lib>=1.1 in /home/ivelin/anaconda3/envs/canswim/lib/python3.11/site-packages (from yfinance->canswim==0.0.1) (1.1)\n",
      "Requirement already satisfied: Mako in /home/ivelin/anaconda3/envs/canswim/lib/python3.11/site-packages (from alembic>=1.5.0->optuna==3.4.0->canswim==0.0.1) (1.3.0)\n",
      "Requirement already satisfied: soupsieve>1.2 in /home/ivelin/anaconda3/envs/canswim/lib/python3.11/site-packages (from beautifulsoup4>=4.11.1->yfinance->canswim==0.0.1) (2.5)\n",
      "Requirement already satisfied: python-dateutil in /home/ivelin/.local/lib/python3.11/site-packages (from holidays>=0.11.1->darts->canswim==0.0.1) (2.8.2)\n",
      "Requirement already satisfied: six>=1.9 in /home/ivelin/.local/lib/python3.11/site-packages (from html5lib>=1.1->yfinance->canswim==0.0.1) (1.16.0)\n",
      "Requirement already satisfied: webencodings in /home/ivelin/anaconda3/envs/canswim/lib/python3.11/site-packages (from html5lib>=1.1->yfinance->canswim==0.0.1) (0.5.1)\n",
      "Requirement already satisfied: contourpy>=1.0.1 in /home/ivelin/anaconda3/envs/canswim/lib/python3.11/site-packages (from matplotlib>=3.3.0->darts->canswim==0.0.1) (1.2.0)\n",
      "Requirement already satisfied: cycler>=0.10 in /home/ivelin/anaconda3/envs/canswim/lib/python3.11/site-packages (from matplotlib>=3.3.0->darts->canswim==0.0.1) (0.12.1)\n",
      "Requirement already satisfied: fonttools>=4.22.0 in /home/ivelin/anaconda3/envs/canswim/lib/python3.11/site-packages (from matplotlib>=3.3.0->darts->canswim==0.0.1) (4.47.0)\n",
      "Requirement already satisfied: kiwisolver>=1.3.1 in /home/ivelin/anaconda3/envs/canswim/lib/python3.11/site-packages (from matplotlib>=3.3.0->darts->canswim==0.0.1) (1.4.5)\n",
      "Requirement already satisfied: pillow>=8 in /home/ivelin/anaconda3/envs/canswim/lib/python3.11/site-packages (from matplotlib>=3.3.0->darts->canswim==0.0.1) (10.1.0)\n",
      "Requirement already satisfied: pyparsing>=2.3.1 in /home/ivelin/anaconda3/envs/canswim/lib/python3.11/site-packages (from matplotlib>=3.3.0->darts->canswim==0.0.1) (3.1.1)\n",
      "Requirement already satisfied: tzdata>=2022.1 in /home/ivelin/anaconda3/envs/canswim/lib/python3.11/site-packages (from pandas>=1.0.5->darts->canswim==0.0.1) (2023.4)\n",
      "Requirement already satisfied: Cython!=0.29.18,!=0.29.31,>=0.29 in /home/ivelin/anaconda3/envs/canswim/lib/python3.11/site-packages (from pmdarima>=1.8.0->darts->canswim==0.0.1) (3.0.7)\n",
      "Requirement already satisfied: urllib3 in /home/ivelin/anaconda3/envs/canswim/lib/python3.11/site-packages (from pmdarima>=1.8.0->darts->canswim==0.0.1) (1.26.18)\n",
      "Requirement already satisfied: setuptools!=50.0.0,>=38.6.0 in /home/ivelin/anaconda3/envs/canswim/lib/python3.11/site-packages (from pmdarima>=1.8.0->darts->canswim==0.0.1) (68.2.2)\n",
      "Requirement already satisfied: numba>=0.51 in /home/ivelin/anaconda3/envs/canswim/lib/python3.11/site-packages (from pyod>=0.9.5->darts->canswim==0.0.1) (0.58.1)\n",
      "Requirement already satisfied: torchmetrics>=0.7.0 in /home/ivelin/anaconda3/envs/canswim/lib/python3.11/site-packages (from pytorch-lightning<=2.1.2,>=1.5.0->darts->canswim==0.0.1) (1.2.1)\n",
      "Requirement already satisfied: lightning-utilities>=0.8.0 in /home/ivelin/anaconda3/envs/canswim/lib/python3.11/site-packages (from pytorch-lightning<=2.1.2,>=1.5.0->darts->canswim==0.0.1) (0.10.0)\n",
      "Requirement already satisfied: charset-normalizer<4,>=2 in /home/ivelin/anaconda3/envs/canswim/lib/python3.11/site-packages (from requests>=2.22.0->darts->canswim==0.0.1) (2.0.4)\n",
      "Requirement already satisfied: idna<4,>=2.5 in /home/ivelin/anaconda3/envs/canswim/lib/python3.11/site-packages (from requests>=2.22.0->darts->canswim==0.0.1) (3.4)\n",
      "Requirement already satisfied: certifi>=2017.4.17 in /home/ivelin/anaconda3/envs/canswim/lib/python3.11/site-packages (from requests>=2.22.0->darts->canswim==0.0.1) (2023.11.17)\n",
      "Requirement already satisfied: threadpoolctl>=2.0.0 in /home/ivelin/anaconda3/envs/canswim/lib/python3.11/site-packages (from scikit-learn>=1.0.1->darts->canswim==0.0.1) (3.2.0)\n",
      "Requirement already satisfied: slicer==0.0.7 in /home/ivelin/anaconda3/envs/canswim/lib/python3.11/site-packages (from shap>=0.40.0->darts->canswim==0.0.1) (0.0.7)\n",
      "Requirement already satisfied: cloudpickle in /home/ivelin/anaconda3/envs/canswim/lib/python3.11/site-packages (from shap>=0.40.0->darts->canswim==0.0.1) (3.0.0)\n",
      "Requirement already satisfied: greenlet!=0.4.17 in /home/ivelin/anaconda3/envs/canswim/lib/python3.11/site-packages (from sqlalchemy>=1.3.0->optuna==3.4.0->canswim==0.0.1) (3.0.3)\n",
      "Requirement already satisfied: fugue>=0.8.1 in /home/ivelin/anaconda3/envs/canswim/lib/python3.11/site-packages (from statsforecast>=1.4->darts->canswim==0.0.1) (0.8.7)\n",
      "Requirement already satisfied: utilsforecast>=0.0.23 in /home/ivelin/anaconda3/envs/canswim/lib/python3.11/site-packages (from statsforecast>=1.4->darts->canswim==0.0.1) (0.0.23)\n",
      "Requirement already satisfied: patsy>=0.5.4 in /home/ivelin/anaconda3/envs/canswim/lib/python3.11/site-packages (from statsmodels>=0.14.0->darts->canswim==0.0.1) (0.5.5)\n",
      "Requirement already satisfied: protobuf>=3.20 in /home/ivelin/anaconda3/envs/canswim/lib/python3.11/site-packages (from tensorboardX>=2.1->darts->canswim==0.0.1) (3.20.3)\n",
      "Requirement already satisfied: sympy in /home/ivelin/anaconda3/envs/canswim/lib/python3.11/site-packages (from torch>=1.8.0->darts->canswim==0.0.1) (1.12)\n",
      "Requirement already satisfied: networkx in /home/ivelin/anaconda3/envs/canswim/lib/python3.11/site-packages (from torch>=1.8.0->darts->canswim==0.0.1) (3.2.1)\n",
      "Requirement already satisfied: jinja2 in /home/ivelin/anaconda3/envs/canswim/lib/python3.11/site-packages (from torch>=1.8.0->darts->canswim==0.0.1) (3.1.2)\n",
      "Requirement already satisfied: nvidia-cuda-nvrtc-cu12==12.1.105 in /home/ivelin/anaconda3/envs/canswim/lib/python3.11/site-packages (from torch>=1.8.0->darts->canswim==0.0.1) (12.1.105)\n",
      "Requirement already satisfied: nvidia-cuda-runtime-cu12==12.1.105 in /home/ivelin/anaconda3/envs/canswim/lib/python3.11/site-packages (from torch>=1.8.0->darts->canswim==0.0.1) (12.1.105)\n",
      "Requirement already satisfied: nvidia-cuda-cupti-cu12==12.1.105 in /home/ivelin/anaconda3/envs/canswim/lib/python3.11/site-packages (from torch>=1.8.0->darts->canswim==0.0.1) (12.1.105)\n",
      "Requirement already satisfied: nvidia-cudnn-cu12==8.9.2.26 in /home/ivelin/anaconda3/envs/canswim/lib/python3.11/site-packages (from torch>=1.8.0->darts->canswim==0.0.1) (8.9.2.26)\n",
      "Requirement already satisfied: nvidia-cublas-cu12==12.1.3.1 in /home/ivelin/anaconda3/envs/canswim/lib/python3.11/site-packages (from torch>=1.8.0->darts->canswim==0.0.1) (12.1.3.1)\n",
      "Requirement already satisfied: nvidia-cufft-cu12==11.0.2.54 in /home/ivelin/anaconda3/envs/canswim/lib/python3.11/site-packages (from torch>=1.8.0->darts->canswim==0.0.1) (11.0.2.54)\n",
      "Requirement already satisfied: nvidia-curand-cu12==10.3.2.106 in /home/ivelin/anaconda3/envs/canswim/lib/python3.11/site-packages (from torch>=1.8.0->darts->canswim==0.0.1) (10.3.2.106)\n",
      "Requirement already satisfied: nvidia-cusolver-cu12==11.4.5.107 in /home/ivelin/anaconda3/envs/canswim/lib/python3.11/site-packages (from torch>=1.8.0->darts->canswim==0.0.1) (11.4.5.107)\n",
      "Requirement already satisfied: nvidia-cusparse-cu12==12.1.0.106 in /home/ivelin/anaconda3/envs/canswim/lib/python3.11/site-packages (from torch>=1.8.0->darts->canswim==0.0.1) (12.1.0.106)\n",
      "Requirement already satisfied: nvidia-nccl-cu12==2.18.1 in /home/ivelin/anaconda3/envs/canswim/lib/python3.11/site-packages (from torch>=1.8.0->darts->canswim==0.0.1) (2.18.1)\n",
      "Requirement already satisfied: nvidia-nvtx-cu12==12.1.105 in /home/ivelin/anaconda3/envs/canswim/lib/python3.11/site-packages (from torch>=1.8.0->darts->canswim==0.0.1) (12.1.105)\n",
      "Requirement already satisfied: triton==2.1.0 in /home/ivelin/anaconda3/envs/canswim/lib/python3.11/site-packages (from torch>=1.8.0->darts->canswim==0.0.1) (2.1.0)\n",
      "Requirement already satisfied: nvidia-nvjitlink-cu12 in /home/ivelin/anaconda3/envs/canswim/lib/python3.11/site-packages (from nvidia-cusolver-cu12==11.4.5.107->torch>=1.8.0->darts->canswim==0.0.1) (12.3.101)\n",
      "Requirement already satisfied: aiohttp!=4.0.0a0,!=4.0.0a1 in /home/ivelin/anaconda3/envs/canswim/lib/python3.11/site-packages (from fsspec[http]>2021.06.0->pytorch-lightning<=2.1.2,>=1.5.0->darts->canswim==0.0.1) (3.9.1)\n",
      "Requirement already satisfied: triad>=0.9.3 in /home/ivelin/anaconda3/envs/canswim/lib/python3.11/site-packages (from fugue>=0.8.1->statsforecast>=1.4->darts->canswim==0.0.1) (0.9.3)\n",
      "Requirement already satisfied: adagio>=0.2.4 in /home/ivelin/anaconda3/envs/canswim/lib/python3.11/site-packages (from fugue>=0.8.1->statsforecast>=1.4->darts->canswim==0.0.1) (0.2.4)\n",
      "Requirement already satisfied: qpd>=0.4.4 in /home/ivelin/anaconda3/envs/canswim/lib/python3.11/site-packages (from fugue>=0.8.1->statsforecast>=1.4->darts->canswim==0.0.1) (0.4.4)\n",
      "Requirement already satisfied: fugue-sql-antlr>=0.1.6 in /home/ivelin/anaconda3/envs/canswim/lib/python3.11/site-packages (from fugue>=0.8.1->statsforecast>=1.4->darts->canswim==0.0.1) (0.2.0)\n",
      "Requirement already satisfied: sqlglot in /home/ivelin/anaconda3/envs/canswim/lib/python3.11/site-packages (from fugue>=0.8.1->statsforecast>=1.4->darts->canswim==0.0.1) (20.5.0)\n",
      "Requirement already satisfied: llvmlite<0.42,>=0.41.0dev0 in /home/ivelin/anaconda3/envs/canswim/lib/python3.11/site-packages (from numba>=0.51->pyod>=0.9.5->darts->canswim==0.0.1) (0.41.1)\n",
      "Requirement already satisfied: MarkupSafe>=2.0 in /home/ivelin/anaconda3/envs/canswim/lib/python3.11/site-packages (from jinja2->torch>=1.8.0->darts->canswim==0.0.1) (2.1.4)\n",
      "Requirement already satisfied: mpmath>=0.19 in /home/ivelin/anaconda3/envs/canswim/lib/python3.11/site-packages (from sympy->torch>=1.8.0->darts->canswim==0.0.1) (1.3.0)\n",
      "Requirement already satisfied: attrs>=17.3.0 in /home/ivelin/anaconda3/envs/canswim/lib/python3.11/site-packages (from aiohttp!=4.0.0a0,!=4.0.0a1->fsspec[http]>2021.06.0->pytorch-lightning<=2.1.2,>=1.5.0->darts->canswim==0.0.1) (23.1.0)\n",
      "Requirement already satisfied: multidict<7.0,>=4.5 in /home/ivelin/anaconda3/envs/canswim/lib/python3.11/site-packages (from aiohttp!=4.0.0a0,!=4.0.0a1->fsspec[http]>2021.06.0->pytorch-lightning<=2.1.2,>=1.5.0->darts->canswim==0.0.1) (6.0.4)\n",
      "Requirement already satisfied: yarl<2.0,>=1.0 in /home/ivelin/anaconda3/envs/canswim/lib/python3.11/site-packages (from aiohttp!=4.0.0a0,!=4.0.0a1->fsspec[http]>2021.06.0->pytorch-lightning<=2.1.2,>=1.5.0->darts->canswim==0.0.1) (1.9.3)\n",
      "Requirement already satisfied: frozenlist>=1.1.1 in /home/ivelin/anaconda3/envs/canswim/lib/python3.11/site-packages (from aiohttp!=4.0.0a0,!=4.0.0a1->fsspec[http]>2021.06.0->pytorch-lightning<=2.1.2,>=1.5.0->darts->canswim==0.0.1) (1.4.1)\n",
      "Requirement already satisfied: aiosignal>=1.1.2 in /home/ivelin/anaconda3/envs/canswim/lib/python3.11/site-packages (from aiohttp!=4.0.0a0,!=4.0.0a1->fsspec[http]>2021.06.0->pytorch-lightning<=2.1.2,>=1.5.0->darts->canswim==0.0.1) (1.2.0)\n",
      "Requirement already satisfied: antlr4-python3-runtime<4.12 in /home/ivelin/anaconda3/envs/canswim/lib/python3.11/site-packages (from fugue-sql-antlr>=0.1.6->fugue>=0.8.1->statsforecast>=1.4->darts->canswim==0.0.1) (4.11.1)\n",
      "Requirement already satisfied: pyarrow>=6.0.1 in /home/ivelin/anaconda3/envs/canswim/lib/python3.11/site-packages (from triad>=0.9.3->fugue>=0.8.1->statsforecast>=1.4->darts->canswim==0.0.1) (14.0.2)\n",
      "Requirement already satisfied: fs in /home/ivelin/anaconda3/envs/canswim/lib/python3.11/site-packages (from triad>=0.9.3->fugue>=0.8.1->statsforecast>=1.4->darts->canswim==0.0.1) (2.4.16)\n",
      "Installing collected packages: canswim\n",
      "  Attempting uninstall: canswim\n",
      "    Found existing installation: canswim 0.0.1\n",
      "    Uninstalling canswim-0.0.1:\n",
      "      Successfully uninstalled canswim-0.0.1\n",
      "  Running setup.py develop for canswim\n",
      "Successfully installed canswim-0.0.1\n"
     ]
    }
   ],
   "source": [
    "import sys\n",
    "!{sys.executable} -m pip install -e ./\n"
   ]
  },
  {
   "cell_type": "code",
   "execution_count": 4,
   "metadata": {},
   "outputs": [],
   "source": [
    "# pip install pytest hypothesis chardet"
   ]
  },
  {
   "cell_type": "code",
   "execution_count": 5,
   "metadata": {},
   "outputs": [
    {
     "name": "stdout",
     "output_type": "stream",
     "text": [
      "HF_HUB_TOKEN=True\n"
     ]
    }
   ],
   "source": [
    "from dotenv import load_dotenv\n",
    "import os\n",
    "\n",
    "load_dotenv(override=True)\n",
    "\n",
    "HF_HUB_TOKEN=os.getenv(\"HF_HUB_TOKEN\")\n",
    "\n",
    "print(f'HF_HUB_TOKEN={HF_HUB_TOKEN!= None}')"
   ]
  },
  {
   "cell_type": "code",
   "execution_count": 15,
   "metadata": {},
   "outputs": [],
   "source": [
    "from darts.models import TiDEModel\n",
    "from canswim.hfhub import HFHub\n",
    "\n",
    "# model = TiDEModel(input_chunk_length=10, output_chunk_length=2)\n",
    "\n",
    "local_dir = \"tmp/hf_hub_tmp/\"\n",
    "model_name = \"canswim_model.pt\"\n",
    "model_path=local_dir+model_name\n"
   ]
  },
  {
   "cell_type": "code",
   "execution_count": 18,
   "metadata": {},
   "outputs": [
    {
     "name": "stderr",
     "output_type": "stream",
     "text": [
      "/home/ivelin/anaconda3/envs/canswim/lib/python3.11/site-packages/pytorch_lightning/utilities/migration/utils.py:55: The loaded checkpoint was produced with Lightning v2.1.3, which is newer than your current Lightning version: v2.1.2\n"
     ]
    }
   ],
   "source": [
    "\n",
    "model = TiDEModel.load(model_path)\n"
   ]
  },
  {
   "cell_type": "code",
   "execution_count": 19,
   "metadata": {},
   "outputs": [],
   "source": [
    "model.trainer"
   ]
  },
  {
   "cell_type": "code",
   "execution_count": 10,
   "metadata": {},
   "outputs": [],
   "source": [
    "model.save(path=model_path)\n"
   ]
  },
  {
   "cell_type": "code",
   "execution_count": 22,
   "metadata": {},
   "outputs": [
    {
     "data": {
      "text/plain": [
       "TiDEModel(num_encoder_layers=2, num_decoder_layers=2, decoder_output_dim=8, hidden_size=256, temporal_width_past=4, temporal_width_future=4, temporal_decoder_hidden=16, use_layer_norm=True, dropout=0.2, use_static_covariates=True, optimizer_kwargs={'lr': 0.000224}, pl_trainer_kwargs={'gradient_clip_val': 1, 'max_epochs': 200, 'accelerator': 'gpu', 'devices': [0], 'callbacks': []}, lr_scheduler_cls=<class 'torch.optim.lr_scheduler.ExponentialLR'>, lr_scheduler_kwargs={'gamma': 0.999}, batch_size=256, random_state=42, input_chunk_length=504, output_chunk_length=42, add_encoders=None, use_reversible_instance_norm=True, n_epochs=10, likelihood=QuantileRegression(quantiles: Optional[List[float]] = None), model_name=data/canswim_model.pt, log_tensorboard=True, nr_epochs_val_period=1)"
      ]
     },
     "execution_count": 22,
     "metadata": {},
     "output_type": "execute_result"
    }
   ],
   "source": [
    "model"
   ]
  },
  {
   "cell_type": "code",
   "execution_count": 23,
   "metadata": {},
   "outputs": [],
   "source": [
    "model.model_name = \"canswim_model.pt\""
   ]
  },
  {
   "cell_type": "code",
   "execution_count": 29,
   "metadata": {},
   "outputs": [
    {
     "name": "stdout",
     "output_type": "stream",
     "text": [
      "HFHub init\n"
     ]
    }
   ],
   "source": [
    "hfhub = HFHub()\n"
   ]
  },
  {
   "cell_type": "code",
   "execution_count": 41,
   "metadata": {},
   "outputs": [
    {
     "name": "stdout",
     "output_type": "stream",
     "text": [
      "created temporary directory for model /tmp/tmpmb7vhy2b\n"
     ]
    },
    {
     "data": {
      "application/vnd.jupyter.widget-view+json": {
       "model_id": "5584ad69177b4d5c930419032cc8046d",
       "version_major": 2,
       "version_minor": 0
      },
      "text/plain": [
       "canswim_model.pt:   0%|          | 0.00/1.45M [00:00<?, ?B/s]"
      ]
     },
     "metadata": {},
     "output_type": "display_data"
    }
   ],
   "source": [
    "hfhub.upload_model(model=model, repo_id=\"ivelin/canswim\")"
   ]
  },
  {
   "cell_type": "code",
   "execution_count": 42,
   "metadata": {},
   "outputs": [
    {
     "data": {
      "application/vnd.jupyter.widget-view+json": {
       "model_id": "93edc42f33404bec80c3e60e72fac11a",
       "version_major": 2,
       "version_minor": 0
      },
      "text/plain": [
       "Fetching 4 files:   0%|          | 0/4 [00:00<?, ?it/s]"
      ]
     },
     "metadata": {},
     "output_type": "display_data"
    },
    {
     "data": {
      "application/vnd.jupyter.widget-view+json": {
       "model_id": "8193743c17b04c08aae5e921bc8bbd14",
       "version_major": 2,
       "version_minor": 0
      },
      "text/plain": [
       "canswim_model.pt:   0%|          | 0.00/1.45M [00:00<?, ?B/s]"
      ]
     },
     "metadata": {},
     "output_type": "display_data"
    },
    {
     "name": "stderr",
     "output_type": "stream",
     "text": [
      "/home/ivelin/anaconda3/envs/canswim/lib/python3.11/site-packages/pytorch_lightning/utilities/migration/utils.py:55: The loaded checkpoint was produced with Lightning v2.1.3, which is newer than your current Lightning version: v2.1.2\n"
     ]
    },
    {
     "data": {
      "text/plain": [
       "TiDEModel(num_encoder_layers=2, num_decoder_layers=2, decoder_output_dim=8, hidden_size=256, temporal_width_past=4, temporal_width_future=4, temporal_decoder_hidden=16, use_layer_norm=True, dropout=0.2, use_static_covariates=True, optimizer_kwargs={'lr': 0.000224}, pl_trainer_kwargs={'gradient_clip_val': 1, 'max_epochs': 200, 'accelerator': 'gpu', 'devices': [0], 'callbacks': []}, lr_scheduler_cls=<class 'torch.optim.lr_scheduler.ExponentialLR'>, lr_scheduler_kwargs={'gamma': 0.999}, batch_size=256, random_state=42, input_chunk_length=504, output_chunk_length=42, add_encoders=None, use_reversible_instance_norm=True, n_epochs=10, likelihood=QuantileRegression(quantiles: Optional[List[float]] = None), model_name=data/canswim_model.pt, log_tensorboard=True, nr_epochs_val_period=1)"
      ]
     },
     "execution_count": 42,
     "metadata": {},
     "output_type": "execute_result"
    }
   ],
   "source": [
    "hfhub.download_model(repo_id=\"ivelin/canswim\", model_name=model.model_name, model_class=TiDEModel)"
   ]
  }
 ],
 "metadata": {
  "kernelspec": {
   "display_name": "canswim",
   "language": "python",
   "name": "python3"
  },
  "language_info": {
   "codemirror_mode": {
    "name": "ipython",
    "version": 3
   },
   "file_extension": ".py",
   "mimetype": "text/x-python",
   "name": "python",
   "nbconvert_exporter": "python",
   "pygments_lexer": "ipython3",
   "version": "3.11.7"
  }
 },
 "nbformat": 4,
 "nbformat_minor": 2
}
