{
 "cells": [
  {
   "cell_type": "markdown",
   "metadata": {},
   "source": [
    "# Canswim testing notebook"
   ]
  },
  {
   "cell_type": "code",
   "execution_count": null,
   "metadata": {},
   "outputs": [],
   "source": [
    "\n",
    "%load_ext autoreload\n",
    "%autoreload 2\n"
   ]
  },
  {
   "cell_type": "code",
   "execution_count": 1,
   "metadata": {},
   "outputs": [
    {
     "name": "stdout",
     "output_type": "stream",
     "text": [
      "Obtaining file:///home/ivelin/canswim\n",
      "  Preparing metadata (setup.py) ... \u001b[?25ldone\n",
      "\u001b[?25hRequirement already satisfied: darts in /home/ivelin/anaconda3/envs/canswim/lib/python3.11/site-packages (from canswim==0.0.1) (0.27.2)\n",
      "Requirement already satisfied: yfinance in /home/ivelin/anaconda3/envs/canswim/lib/python3.11/site-packages (from canswim==0.0.1) (0.2.33)\n",
      "Requirement already satisfied: fmpsdk in /home/ivelin/anaconda3/envs/canswim/lib/python3.11/site-packages (from canswim==0.0.1) (20230623.0)\n",
      "Requirement already satisfied: optuna==3.4.0 in /home/ivelin/anaconda3/envs/canswim/lib/python3.11/site-packages (from canswim==0.0.1) (3.4.0)\n",
      "Requirement already satisfied: huggingface_hub in /home/ivelin/anaconda3/envs/canswim/lib/python3.11/site-packages (from canswim==0.0.1) (0.20.3)\n",
      "Requirement already satisfied: alembic>=1.5.0 in /home/ivelin/anaconda3/envs/canswim/lib/python3.11/site-packages (from optuna==3.4.0->canswim==0.0.1) (1.13.1)\n",
      "Requirement already satisfied: colorlog in /home/ivelin/anaconda3/envs/canswim/lib/python3.11/site-packages (from optuna==3.4.0->canswim==0.0.1) (6.8.2)\n",
      "Requirement already satisfied: numpy in /home/ivelin/anaconda3/envs/canswim/lib/python3.11/site-packages (from optuna==3.4.0->canswim==0.0.1) (1.26.3)\n",
      "Requirement already satisfied: packaging>=20.0 in /home/ivelin/anaconda3/envs/canswim/lib/python3.11/site-packages (from optuna==3.4.0->canswim==0.0.1) (23.2)\n",
      "Requirement already satisfied: sqlalchemy>=1.3.0 in /home/ivelin/anaconda3/envs/canswim/lib/python3.11/site-packages (from optuna==3.4.0->canswim==0.0.1) (2.0.25)\n",
      "Requirement already satisfied: tqdm in /home/ivelin/anaconda3/envs/canswim/lib/python3.11/site-packages (from optuna==3.4.0->canswim==0.0.1) (4.66.1)\n",
      "Requirement already satisfied: PyYAML in /home/ivelin/anaconda3/envs/canswim/lib/python3.11/site-packages (from optuna==3.4.0->canswim==0.0.1) (6.0.1)\n",
      "Requirement already satisfied: holidays>=0.11.1 in /home/ivelin/anaconda3/envs/canswim/lib/python3.11/site-packages (from darts->canswim==0.0.1) (0.39)\n",
      "Requirement already satisfied: joblib>=0.16.0 in /home/ivelin/anaconda3/envs/canswim/lib/python3.11/site-packages (from darts->canswim==0.0.1) (1.3.2)\n",
      "Requirement already satisfied: matplotlib>=3.3.0 in /home/ivelin/anaconda3/envs/canswim/lib/python3.11/site-packages (from darts->canswim==0.0.1) (3.8.2)\n",
      "Requirement already satisfied: nfoursid>=1.0.0 in /home/ivelin/anaconda3/envs/canswim/lib/python3.11/site-packages (from darts->canswim==0.0.1) (1.0.1)\n",
      "Requirement already satisfied: pmdarima>=1.8.0 in /home/ivelin/anaconda3/envs/canswim/lib/python3.11/site-packages (from darts->canswim==0.0.1) (2.0.4)\n",
      "Requirement already satisfied: pyod>=0.9.5 in /home/ivelin/anaconda3/envs/canswim/lib/python3.11/site-packages (from darts->canswim==0.0.1) (1.1.2)\n",
      "Requirement already satisfied: requests>=2.22.0 in /home/ivelin/anaconda3/envs/canswim/lib/python3.11/site-packages (from darts->canswim==0.0.1) (2.31.0)\n",
      "Requirement already satisfied: scikit-learn>=1.0.1 in /home/ivelin/anaconda3/envs/canswim/lib/python3.11/site-packages (from darts->canswim==0.0.1) (1.3.2)\n",
      "Requirement already satisfied: scipy>=1.3.2 in /home/ivelin/anaconda3/envs/canswim/lib/python3.11/site-packages (from darts->canswim==0.0.1) (1.11.4)\n",
      "Requirement already satisfied: shap>=0.40.0 in /home/ivelin/anaconda3/envs/canswim/lib/python3.11/site-packages (from darts->canswim==0.0.1) (0.44.0)\n",
      "Requirement already satisfied: statsforecast>=1.4 in /home/ivelin/anaconda3/envs/canswim/lib/python3.11/site-packages (from darts->canswim==0.0.1) (1.7.0)\n",
      "Requirement already satisfied: statsmodels>=0.14.0 in /home/ivelin/anaconda3/envs/canswim/lib/python3.11/site-packages (from darts->canswim==0.0.1) (0.14.1)\n",
      "Requirement already satisfied: tbats>=1.1.0 in /home/ivelin/anaconda3/envs/canswim/lib/python3.11/site-packages (from darts->canswim==0.0.1) (1.1.3)\n",
      "Requirement already satisfied: typing-extensions in /home/ivelin/anaconda3/envs/canswim/lib/python3.11/site-packages (from darts->canswim==0.0.1) (4.9.0)\n",
      "Requirement already satisfied: xarray>=0.17.0 in /home/ivelin/anaconda3/envs/canswim/lib/python3.11/site-packages (from darts->canswim==0.0.1) (2023.12.0)\n",
      "Requirement already satisfied: xgboost>=1.6.0 in /home/ivelin/anaconda3/envs/canswim/lib/python3.11/site-packages (from darts->canswim==0.0.1) (2.0.3)\n",
      "Requirement already satisfied: pytorch-lightning<=2.1.2,>=1.5.0 in /home/ivelin/anaconda3/envs/canswim/lib/python3.11/site-packages (from darts->canswim==0.0.1) (2.1.2)\n",
      "Requirement already satisfied: tensorboardX>=2.1 in /home/ivelin/anaconda3/envs/canswim/lib/python3.11/site-packages (from darts->canswim==0.0.1) (2.6.2.2)\n",
      "Requirement already satisfied: torch>=1.8.0 in /home/ivelin/anaconda3/envs/canswim/lib/python3.11/site-packages (from darts->canswim==0.0.1) (2.1.2)\n",
      "Requirement already satisfied: pandas>=1.0.5 in /home/ivelin/anaconda3/envs/canswim/lib/python3.11/site-packages (from darts->canswim==0.0.1) (2.1.4)\n",
      "Requirement already satisfied: python-dotenv in /home/ivelin/anaconda3/envs/canswim/lib/python3.11/site-packages (from fmpsdk->canswim==0.0.1) (1.0.0)\n",
      "Requirement already satisfied: filelock in /home/ivelin/anaconda3/envs/canswim/lib/python3.11/site-packages (from huggingface_hub->canswim==0.0.1) (3.13.1)\n",
      "Requirement already satisfied: fsspec>=2023.5.0 in /home/ivelin/anaconda3/envs/canswim/lib/python3.11/site-packages (from huggingface_hub->canswim==0.0.1) (2023.12.2)\n",
      "Requirement already satisfied: multitasking>=0.0.7 in /home/ivelin/anaconda3/envs/canswim/lib/python3.11/site-packages (from yfinance->canswim==0.0.1) (0.0.11)\n",
      "Requirement already satisfied: lxml>=4.9.1 in /home/ivelin/anaconda3/envs/canswim/lib/python3.11/site-packages (from yfinance->canswim==0.0.1) (5.0.0)\n",
      "Requirement already satisfied: appdirs>=1.4.4 in /home/ivelin/anaconda3/envs/canswim/lib/python3.11/site-packages (from yfinance->canswim==0.0.1) (1.4.4)\n",
      "Requirement already satisfied: pytz>=2022.5 in /home/ivelin/anaconda3/envs/canswim/lib/python3.11/site-packages (from yfinance->canswim==0.0.1) (2023.3.post1)\n",
      "Requirement already satisfied: frozendict>=2.3.4 in /home/ivelin/anaconda3/envs/canswim/lib/python3.11/site-packages (from yfinance->canswim==0.0.1) (2.4.0)\n",
      "Requirement already satisfied: peewee>=3.16.2 in /home/ivelin/anaconda3/envs/canswim/lib/python3.11/site-packages (from yfinance->canswim==0.0.1) (3.17.0)\n",
      "Requirement already satisfied: beautifulsoup4>=4.11.1 in /home/ivelin/anaconda3/envs/canswim/lib/python3.11/site-packages (from yfinance->canswim==0.0.1) (4.12.2)\n",
      "Requirement already satisfied: html5lib>=1.1 in /home/ivelin/anaconda3/envs/canswim/lib/python3.11/site-packages (from yfinance->canswim==0.0.1) (1.1)\n",
      "Requirement already satisfied: Mako in /home/ivelin/anaconda3/envs/canswim/lib/python3.11/site-packages (from alembic>=1.5.0->optuna==3.4.0->canswim==0.0.1) (1.3.0)\n",
      "Requirement already satisfied: soupsieve>1.2 in /home/ivelin/anaconda3/envs/canswim/lib/python3.11/site-packages (from beautifulsoup4>=4.11.1->yfinance->canswim==0.0.1) (2.5)\n",
      "Requirement already satisfied: python-dateutil in /home/ivelin/.local/lib/python3.11/site-packages (from holidays>=0.11.1->darts->canswim==0.0.1) (2.8.2)\n",
      "Requirement already satisfied: six>=1.9 in /home/ivelin/.local/lib/python3.11/site-packages (from html5lib>=1.1->yfinance->canswim==0.0.1) (1.16.0)\n",
      "Requirement already satisfied: webencodings in /home/ivelin/anaconda3/envs/canswim/lib/python3.11/site-packages (from html5lib>=1.1->yfinance->canswim==0.0.1) (0.5.1)\n",
      "Requirement already satisfied: contourpy>=1.0.1 in /home/ivelin/anaconda3/envs/canswim/lib/python3.11/site-packages (from matplotlib>=3.3.0->darts->canswim==0.0.1) (1.2.0)\n",
      "Requirement already satisfied: cycler>=0.10 in /home/ivelin/anaconda3/envs/canswim/lib/python3.11/site-packages (from matplotlib>=3.3.0->darts->canswim==0.0.1) (0.12.1)\n",
      "Requirement already satisfied: fonttools>=4.22.0 in /home/ivelin/anaconda3/envs/canswim/lib/python3.11/site-packages (from matplotlib>=3.3.0->darts->canswim==0.0.1) (4.47.0)\n",
      "Requirement already satisfied: kiwisolver>=1.3.1 in /home/ivelin/anaconda3/envs/canswim/lib/python3.11/site-packages (from matplotlib>=3.3.0->darts->canswim==0.0.1) (1.4.5)\n",
      "Requirement already satisfied: pillow>=8 in /home/ivelin/anaconda3/envs/canswim/lib/python3.11/site-packages (from matplotlib>=3.3.0->darts->canswim==0.0.1) (10.1.0)\n",
      "Requirement already satisfied: pyparsing>=2.3.1 in /home/ivelin/anaconda3/envs/canswim/lib/python3.11/site-packages (from matplotlib>=3.3.0->darts->canswim==0.0.1) (3.1.1)\n",
      "Requirement already satisfied: tzdata>=2022.1 in /home/ivelin/anaconda3/envs/canswim/lib/python3.11/site-packages (from pandas>=1.0.5->darts->canswim==0.0.1) (2023.4)\n",
      "Requirement already satisfied: Cython!=0.29.18,!=0.29.31,>=0.29 in /home/ivelin/anaconda3/envs/canswim/lib/python3.11/site-packages (from pmdarima>=1.8.0->darts->canswim==0.0.1) (3.0.7)\n",
      "Requirement already satisfied: urllib3 in /home/ivelin/anaconda3/envs/canswim/lib/python3.11/site-packages (from pmdarima>=1.8.0->darts->canswim==0.0.1) (1.26.18)\n",
      "Requirement already satisfied: setuptools!=50.0.0,>=38.6.0 in /home/ivelin/anaconda3/envs/canswim/lib/python3.11/site-packages (from pmdarima>=1.8.0->darts->canswim==0.0.1) (68.2.2)\n",
      "Requirement already satisfied: numba>=0.51 in /home/ivelin/anaconda3/envs/canswim/lib/python3.11/site-packages (from pyod>=0.9.5->darts->canswim==0.0.1) (0.58.1)\n",
      "Requirement already satisfied: torchmetrics>=0.7.0 in /home/ivelin/anaconda3/envs/canswim/lib/python3.11/site-packages (from pytorch-lightning<=2.1.2,>=1.5.0->darts->canswim==0.0.1) (1.2.1)\n",
      "Requirement already satisfied: lightning-utilities>=0.8.0 in /home/ivelin/anaconda3/envs/canswim/lib/python3.11/site-packages (from pytorch-lightning<=2.1.2,>=1.5.0->darts->canswim==0.0.1) (0.10.0)\n",
      "Requirement already satisfied: charset-normalizer<4,>=2 in /home/ivelin/anaconda3/envs/canswim/lib/python3.11/site-packages (from requests>=2.22.0->darts->canswim==0.0.1) (2.0.4)\n",
      "Requirement already satisfied: idna<4,>=2.5 in /home/ivelin/anaconda3/envs/canswim/lib/python3.11/site-packages (from requests>=2.22.0->darts->canswim==0.0.1) (3.4)\n",
      "Requirement already satisfied: certifi>=2017.4.17 in /home/ivelin/anaconda3/envs/canswim/lib/python3.11/site-packages (from requests>=2.22.0->darts->canswim==0.0.1) (2023.11.17)\n",
      "Requirement already satisfied: threadpoolctl>=2.0.0 in /home/ivelin/anaconda3/envs/canswim/lib/python3.11/site-packages (from scikit-learn>=1.0.1->darts->canswim==0.0.1) (3.2.0)\n",
      "Requirement already satisfied: slicer==0.0.7 in /home/ivelin/anaconda3/envs/canswim/lib/python3.11/site-packages (from shap>=0.40.0->darts->canswim==0.0.1) (0.0.7)\n",
      "Requirement already satisfied: cloudpickle in /home/ivelin/anaconda3/envs/canswim/lib/python3.11/site-packages (from shap>=0.40.0->darts->canswim==0.0.1) (3.0.0)\n",
      "Requirement already satisfied: greenlet!=0.4.17 in /home/ivelin/anaconda3/envs/canswim/lib/python3.11/site-packages (from sqlalchemy>=1.3.0->optuna==3.4.0->canswim==0.0.1) (3.0.3)\n",
      "Requirement already satisfied: fugue>=0.8.1 in /home/ivelin/anaconda3/envs/canswim/lib/python3.11/site-packages (from statsforecast>=1.4->darts->canswim==0.0.1) (0.8.7)\n",
      "Requirement already satisfied: utilsforecast>=0.0.23 in /home/ivelin/anaconda3/envs/canswim/lib/python3.11/site-packages (from statsforecast>=1.4->darts->canswim==0.0.1) (0.0.23)\n",
      "Requirement already satisfied: patsy>=0.5.4 in /home/ivelin/anaconda3/envs/canswim/lib/python3.11/site-packages (from statsmodels>=0.14.0->darts->canswim==0.0.1) (0.5.5)\n",
      "Requirement already satisfied: protobuf>=3.20 in /home/ivelin/anaconda3/envs/canswim/lib/python3.11/site-packages (from tensorboardX>=2.1->darts->canswim==0.0.1) (3.20.3)\n",
      "Requirement already satisfied: sympy in /home/ivelin/anaconda3/envs/canswim/lib/python3.11/site-packages (from torch>=1.8.0->darts->canswim==0.0.1) (1.12)\n",
      "Requirement already satisfied: networkx in /home/ivelin/anaconda3/envs/canswim/lib/python3.11/site-packages (from torch>=1.8.0->darts->canswim==0.0.1) (3.2.1)\n",
      "Requirement already satisfied: jinja2 in /home/ivelin/anaconda3/envs/canswim/lib/python3.11/site-packages (from torch>=1.8.0->darts->canswim==0.0.1) (3.1.2)\n",
      "Requirement already satisfied: nvidia-cuda-nvrtc-cu12==12.1.105 in /home/ivelin/anaconda3/envs/canswim/lib/python3.11/site-packages (from torch>=1.8.0->darts->canswim==0.0.1) (12.1.105)\n",
      "Requirement already satisfied: nvidia-cuda-runtime-cu12==12.1.105 in /home/ivelin/anaconda3/envs/canswim/lib/python3.11/site-packages (from torch>=1.8.0->darts->canswim==0.0.1) (12.1.105)\n",
      "Requirement already satisfied: nvidia-cuda-cupti-cu12==12.1.105 in /home/ivelin/anaconda3/envs/canswim/lib/python3.11/site-packages (from torch>=1.8.0->darts->canswim==0.0.1) (12.1.105)\n",
      "Requirement already satisfied: nvidia-cudnn-cu12==8.9.2.26 in /home/ivelin/anaconda3/envs/canswim/lib/python3.11/site-packages (from torch>=1.8.0->darts->canswim==0.0.1) (8.9.2.26)\n",
      "Requirement already satisfied: nvidia-cublas-cu12==12.1.3.1 in /home/ivelin/anaconda3/envs/canswim/lib/python3.11/site-packages (from torch>=1.8.0->darts->canswim==0.0.1) (12.1.3.1)\n",
      "Requirement already satisfied: nvidia-cufft-cu12==11.0.2.54 in /home/ivelin/anaconda3/envs/canswim/lib/python3.11/site-packages (from torch>=1.8.0->darts->canswim==0.0.1) (11.0.2.54)\n",
      "Requirement already satisfied: nvidia-curand-cu12==10.3.2.106 in /home/ivelin/anaconda3/envs/canswim/lib/python3.11/site-packages (from torch>=1.8.0->darts->canswim==0.0.1) (10.3.2.106)\n",
      "Requirement already satisfied: nvidia-cusolver-cu12==11.4.5.107 in /home/ivelin/anaconda3/envs/canswim/lib/python3.11/site-packages (from torch>=1.8.0->darts->canswim==0.0.1) (11.4.5.107)\n",
      "Requirement already satisfied: nvidia-cusparse-cu12==12.1.0.106 in /home/ivelin/anaconda3/envs/canswim/lib/python3.11/site-packages (from torch>=1.8.0->darts->canswim==0.0.1) (12.1.0.106)\n",
      "Requirement already satisfied: nvidia-nccl-cu12==2.18.1 in /home/ivelin/anaconda3/envs/canswim/lib/python3.11/site-packages (from torch>=1.8.0->darts->canswim==0.0.1) (2.18.1)\n",
      "Requirement already satisfied: nvidia-nvtx-cu12==12.1.105 in /home/ivelin/anaconda3/envs/canswim/lib/python3.11/site-packages (from torch>=1.8.0->darts->canswim==0.0.1) (12.1.105)\n",
      "Requirement already satisfied: triton==2.1.0 in /home/ivelin/anaconda3/envs/canswim/lib/python3.11/site-packages (from torch>=1.8.0->darts->canswim==0.0.1) (2.1.0)\n",
      "Requirement already satisfied: nvidia-nvjitlink-cu12 in /home/ivelin/anaconda3/envs/canswim/lib/python3.11/site-packages (from nvidia-cusolver-cu12==11.4.5.107->torch>=1.8.0->darts->canswim==0.0.1) (12.3.101)\n",
      "Requirement already satisfied: aiohttp!=4.0.0a0,!=4.0.0a1 in /home/ivelin/anaconda3/envs/canswim/lib/python3.11/site-packages (from fsspec[http]>2021.06.0->pytorch-lightning<=2.1.2,>=1.5.0->darts->canswim==0.0.1) (3.9.1)\n",
      "Requirement already satisfied: triad>=0.9.3 in /home/ivelin/anaconda3/envs/canswim/lib/python3.11/site-packages (from fugue>=0.8.1->statsforecast>=1.4->darts->canswim==0.0.1) (0.9.3)\n",
      "Requirement already satisfied: adagio>=0.2.4 in /home/ivelin/anaconda3/envs/canswim/lib/python3.11/site-packages (from fugue>=0.8.1->statsforecast>=1.4->darts->canswim==0.0.1) (0.2.4)\n",
      "Requirement already satisfied: qpd>=0.4.4 in /home/ivelin/anaconda3/envs/canswim/lib/python3.11/site-packages (from fugue>=0.8.1->statsforecast>=1.4->darts->canswim==0.0.1) (0.4.4)\n",
      "Requirement already satisfied: fugue-sql-antlr>=0.1.6 in /home/ivelin/anaconda3/envs/canswim/lib/python3.11/site-packages (from fugue>=0.8.1->statsforecast>=1.4->darts->canswim==0.0.1) (0.2.0)\n",
      "Requirement already satisfied: sqlglot in /home/ivelin/anaconda3/envs/canswim/lib/python3.11/site-packages (from fugue>=0.8.1->statsforecast>=1.4->darts->canswim==0.0.1) (20.5.0)\n",
      "Requirement already satisfied: llvmlite<0.42,>=0.41.0dev0 in /home/ivelin/anaconda3/envs/canswim/lib/python3.11/site-packages (from numba>=0.51->pyod>=0.9.5->darts->canswim==0.0.1) (0.41.1)\n",
      "Requirement already satisfied: MarkupSafe>=2.0 in /home/ivelin/anaconda3/envs/canswim/lib/python3.11/site-packages (from jinja2->torch>=1.8.0->darts->canswim==0.0.1) (2.1.4)\n",
      "Requirement already satisfied: mpmath>=0.19 in /home/ivelin/anaconda3/envs/canswim/lib/python3.11/site-packages (from sympy->torch>=1.8.0->darts->canswim==0.0.1) (1.3.0)\n",
      "Requirement already satisfied: attrs>=17.3.0 in /home/ivelin/anaconda3/envs/canswim/lib/python3.11/site-packages (from aiohttp!=4.0.0a0,!=4.0.0a1->fsspec[http]>2021.06.0->pytorch-lightning<=2.1.2,>=1.5.0->darts->canswim==0.0.1) (23.1.0)\n",
      "Requirement already satisfied: multidict<7.0,>=4.5 in /home/ivelin/anaconda3/envs/canswim/lib/python3.11/site-packages (from aiohttp!=4.0.0a0,!=4.0.0a1->fsspec[http]>2021.06.0->pytorch-lightning<=2.1.2,>=1.5.0->darts->canswim==0.0.1) (6.0.4)\n",
      "Requirement already satisfied: yarl<2.0,>=1.0 in /home/ivelin/anaconda3/envs/canswim/lib/python3.11/site-packages (from aiohttp!=4.0.0a0,!=4.0.0a1->fsspec[http]>2021.06.0->pytorch-lightning<=2.1.2,>=1.5.0->darts->canswim==0.0.1) (1.9.3)\n",
      "Requirement already satisfied: frozenlist>=1.1.1 in /home/ivelin/anaconda3/envs/canswim/lib/python3.11/site-packages (from aiohttp!=4.0.0a0,!=4.0.0a1->fsspec[http]>2021.06.0->pytorch-lightning<=2.1.2,>=1.5.0->darts->canswim==0.0.1) (1.4.1)\n",
      "Requirement already satisfied: aiosignal>=1.1.2 in /home/ivelin/anaconda3/envs/canswim/lib/python3.11/site-packages (from aiohttp!=4.0.0a0,!=4.0.0a1->fsspec[http]>2021.06.0->pytorch-lightning<=2.1.2,>=1.5.0->darts->canswim==0.0.1) (1.2.0)\n",
      "Requirement already satisfied: antlr4-python3-runtime<4.12 in /home/ivelin/anaconda3/envs/canswim/lib/python3.11/site-packages (from fugue-sql-antlr>=0.1.6->fugue>=0.8.1->statsforecast>=1.4->darts->canswim==0.0.1) (4.11.1)\n",
      "Requirement already satisfied: pyarrow>=6.0.1 in /home/ivelin/anaconda3/envs/canswim/lib/python3.11/site-packages (from triad>=0.9.3->fugue>=0.8.1->statsforecast>=1.4->darts->canswim==0.0.1) (14.0.2)\n",
      "Requirement already satisfied: fs in /home/ivelin/anaconda3/envs/canswim/lib/python3.11/site-packages (from triad>=0.9.3->fugue>=0.8.1->statsforecast>=1.4->darts->canswim==0.0.1) (2.4.16)\n",
      "Installing collected packages: canswim\n",
      "  Attempting uninstall: canswim\n",
      "    Found existing installation: canswim 0.0.1\n",
      "    Uninstalling canswim-0.0.1:\n",
      "      Successfully uninstalled canswim-0.0.1\n",
      "  Running setup.py develop for canswim\n",
      "Successfully installed canswim-0.0.1\n"
     ]
    }
   ],
   "source": [
    "import sys\n",
    "!{sys.executable} -m pip install -e ./\n"
   ]
  },
  {
   "cell_type": "code",
   "execution_count": null,
   "metadata": {},
   "outputs": [],
   "source": [
    "# pip install pytest hypothesis chardet"
   ]
  },
  {
   "cell_type": "code",
   "execution_count": 12,
   "metadata": {},
   "outputs": [],
   "source": [
    "from darts.models import TiDEModel\n",
    "from huggingface_hub import snapshot_download, upload_folder\n",
    "\n",
    "# model = TiDEModel(input_chunk_length=10, output_chunk_length=2)\n",
    "\n",
    "local_dir = \"tmp/hf_hub_tmp/\"\n",
    "model_name = \"canswim_model.pt\"\n",
    "model_path=local_dir+model_name\n",
    "\n"
   ]
  },
  {
   "cell_type": "code",
   "execution_count": 13,
   "metadata": {},
   "outputs": [
    {
     "name": "stderr",
     "output_type": "stream",
     "text": [
      "/home/ivelin/anaconda3/envs/canswim/lib/python3.11/site-packages/pytorch_lightning/utilities/migration/utils.py:55: The loaded checkpoint was produced with Lightning v2.1.3, which is newer than your current Lightning version: v2.1.2\n"
     ]
    }
   ],
   "source": [
    "\n",
    "model = TiDEModel.load(model_path)\n"
   ]
  },
  {
   "cell_type": "code",
   "execution_count": 14,
   "metadata": {},
   "outputs": [],
   "source": [
    "model.trainer"
   ]
  },
  {
   "cell_type": "code",
   "execution_count": 15,
   "metadata": {},
   "outputs": [],
   "source": [
    "model.save(path=model_path)\n"
   ]
  },
  {
   "cell_type": "code",
   "execution_count": 16,
   "metadata": {},
   "outputs": [
    {
     "ename": "HFValidationError",
     "evalue": "Repo id must be in the form 'repo_name' or 'namespace/repo_name': 'tmp/hf_hub_tmp/'. Use `repo_type` argument if needed.",
     "output_type": "error",
     "traceback": [
      "\u001b[0;31m---------------------------------------------------------------------------\u001b[0m",
      "\u001b[0;31mHFValidationError\u001b[0m                         Traceback (most recent call last)",
      "Cell \u001b[0;32mIn[16], line 1\u001b[0m\n\u001b[0;32m----> 1\u001b[0m \u001b[43mupload_folder\u001b[49m\u001b[43m(\u001b[49m\u001b[43mlocal_dir\u001b[49m\u001b[43m)\u001b[49m\n",
      "File \u001b[0;32m~/anaconda3/envs/canswim/lib/python3.11/site-packages/huggingface_hub/utils/_validators.py:110\u001b[0m, in \u001b[0;36mvalidate_hf_hub_args.<locals>._inner_fn\u001b[0;34m(*args, **kwargs)\u001b[0m\n\u001b[1;32m    105\u001b[0m \u001b[38;5;28;01mfor\u001b[39;00m arg_name, arg_value \u001b[38;5;129;01min\u001b[39;00m chain(\n\u001b[1;32m    106\u001b[0m     \u001b[38;5;28mzip\u001b[39m(signature\u001b[38;5;241m.\u001b[39mparameters, args),  \u001b[38;5;66;03m# Args values\u001b[39;00m\n\u001b[1;32m    107\u001b[0m     kwargs\u001b[38;5;241m.\u001b[39mitems(),  \u001b[38;5;66;03m# Kwargs values\u001b[39;00m\n\u001b[1;32m    108\u001b[0m ):\n\u001b[1;32m    109\u001b[0m     \u001b[38;5;28;01mif\u001b[39;00m arg_name \u001b[38;5;129;01min\u001b[39;00m [\u001b[38;5;124m\"\u001b[39m\u001b[38;5;124mrepo_id\u001b[39m\u001b[38;5;124m\"\u001b[39m, \u001b[38;5;124m\"\u001b[39m\u001b[38;5;124mfrom_id\u001b[39m\u001b[38;5;124m\"\u001b[39m, \u001b[38;5;124m\"\u001b[39m\u001b[38;5;124mto_id\u001b[39m\u001b[38;5;124m\"\u001b[39m]:\n\u001b[0;32m--> 110\u001b[0m         \u001b[43mvalidate_repo_id\u001b[49m\u001b[43m(\u001b[49m\u001b[43marg_value\u001b[49m\u001b[43m)\u001b[49m\n\u001b[1;32m    112\u001b[0m     \u001b[38;5;28;01melif\u001b[39;00m arg_name \u001b[38;5;241m==\u001b[39m \u001b[38;5;124m\"\u001b[39m\u001b[38;5;124mtoken\u001b[39m\u001b[38;5;124m\"\u001b[39m \u001b[38;5;129;01mand\u001b[39;00m arg_value \u001b[38;5;129;01mis\u001b[39;00m \u001b[38;5;129;01mnot\u001b[39;00m \u001b[38;5;28;01mNone\u001b[39;00m:\n\u001b[1;32m    113\u001b[0m         has_token \u001b[38;5;241m=\u001b[39m \u001b[38;5;28;01mTrue\u001b[39;00m\n",
      "File \u001b[0;32m~/anaconda3/envs/canswim/lib/python3.11/site-packages/huggingface_hub/utils/_validators.py:158\u001b[0m, in \u001b[0;36mvalidate_repo_id\u001b[0;34m(repo_id)\u001b[0m\n\u001b[1;32m    155\u001b[0m     \u001b[38;5;28;01mraise\u001b[39;00m HFValidationError(\u001b[38;5;124mf\u001b[39m\u001b[38;5;124m\"\u001b[39m\u001b[38;5;124mRepo id must be a string, not \u001b[39m\u001b[38;5;132;01m{\u001b[39;00m\u001b[38;5;28mtype\u001b[39m(repo_id)\u001b[38;5;132;01m}\u001b[39;00m\u001b[38;5;124m: \u001b[39m\u001b[38;5;124m'\u001b[39m\u001b[38;5;132;01m{\u001b[39;00mrepo_id\u001b[38;5;132;01m}\u001b[39;00m\u001b[38;5;124m'\u001b[39m\u001b[38;5;124m.\u001b[39m\u001b[38;5;124m\"\u001b[39m)\n\u001b[1;32m    157\u001b[0m \u001b[38;5;28;01mif\u001b[39;00m repo_id\u001b[38;5;241m.\u001b[39mcount(\u001b[38;5;124m\"\u001b[39m\u001b[38;5;124m/\u001b[39m\u001b[38;5;124m\"\u001b[39m) \u001b[38;5;241m>\u001b[39m \u001b[38;5;241m1\u001b[39m:\n\u001b[0;32m--> 158\u001b[0m     \u001b[38;5;28;01mraise\u001b[39;00m HFValidationError(\n\u001b[1;32m    159\u001b[0m         \u001b[38;5;124m\"\u001b[39m\u001b[38;5;124mRepo id must be in the form \u001b[39m\u001b[38;5;124m'\u001b[39m\u001b[38;5;124mrepo_name\u001b[39m\u001b[38;5;124m'\u001b[39m\u001b[38;5;124m or \u001b[39m\u001b[38;5;124m'\u001b[39m\u001b[38;5;124mnamespace/repo_name\u001b[39m\u001b[38;5;124m'\u001b[39m\u001b[38;5;124m:\u001b[39m\u001b[38;5;124m\"\u001b[39m\n\u001b[1;32m    160\u001b[0m         \u001b[38;5;124mf\u001b[39m\u001b[38;5;124m\"\u001b[39m\u001b[38;5;124m \u001b[39m\u001b[38;5;124m'\u001b[39m\u001b[38;5;132;01m{\u001b[39;00mrepo_id\u001b[38;5;132;01m}\u001b[39;00m\u001b[38;5;124m'\u001b[39m\u001b[38;5;124m. Use `repo_type` argument if needed.\u001b[39m\u001b[38;5;124m\"\u001b[39m\n\u001b[1;32m    161\u001b[0m     )\n\u001b[1;32m    163\u001b[0m \u001b[38;5;28;01mif\u001b[39;00m \u001b[38;5;129;01mnot\u001b[39;00m REPO_ID_REGEX\u001b[38;5;241m.\u001b[39mmatch(repo_id):\n\u001b[1;32m    164\u001b[0m     \u001b[38;5;28;01mraise\u001b[39;00m HFValidationError(\n\u001b[1;32m    165\u001b[0m         \u001b[38;5;124m\"\u001b[39m\u001b[38;5;124mRepo id must use alphanumeric chars or \u001b[39m\u001b[38;5;124m'\u001b[39m\u001b[38;5;124m-\u001b[39m\u001b[38;5;124m'\u001b[39m\u001b[38;5;124m, \u001b[39m\u001b[38;5;124m'\u001b[39m\u001b[38;5;124m_\u001b[39m\u001b[38;5;124m'\u001b[39m\u001b[38;5;124m, \u001b[39m\u001b[38;5;124m'\u001b[39m\u001b[38;5;124m.\u001b[39m\u001b[38;5;124m'\u001b[39m\u001b[38;5;124m, \u001b[39m\u001b[38;5;124m'\u001b[39m\u001b[38;5;124m--\u001b[39m\u001b[38;5;124m'\u001b[39m\u001b[38;5;124m and \u001b[39m\u001b[38;5;124m'\u001b[39m\u001b[38;5;124m..\u001b[39m\u001b[38;5;124m'\u001b[39m\u001b[38;5;124m are\u001b[39m\u001b[38;5;124m\"\u001b[39m\n\u001b[1;32m    166\u001b[0m         \u001b[38;5;124m\"\u001b[39m\u001b[38;5;124m forbidden, \u001b[39m\u001b[38;5;124m'\u001b[39m\u001b[38;5;124m-\u001b[39m\u001b[38;5;124m'\u001b[39m\u001b[38;5;124m and \u001b[39m\u001b[38;5;124m'\u001b[39m\u001b[38;5;124m.\u001b[39m\u001b[38;5;124m'\u001b[39m\u001b[38;5;124m cannot start or end the name, max length is 96:\u001b[39m\u001b[38;5;124m\"\u001b[39m\n\u001b[1;32m    167\u001b[0m         \u001b[38;5;124mf\u001b[39m\u001b[38;5;124m\"\u001b[39m\u001b[38;5;124m \u001b[39m\u001b[38;5;124m'\u001b[39m\u001b[38;5;132;01m{\u001b[39;00mrepo_id\u001b[38;5;132;01m}\u001b[39;00m\u001b[38;5;124m'\u001b[39m\u001b[38;5;124m.\u001b[39m\u001b[38;5;124m\"\u001b[39m\n\u001b[1;32m    168\u001b[0m     )\n",
      "\u001b[0;31mHFValidationError\u001b[0m: Repo id must be in the form 'repo_name' or 'namespace/repo_name': 'tmp/hf_hub_tmp/'. Use `repo_type` argument if needed."
     ]
    }
   ],
   "source": [
    "upload_folder(local_dir)"
   ]
  }
 ],
 "metadata": {
  "kernelspec": {
   "display_name": "canswim",
   "language": "python",
   "name": "python3"
  },
  "language_info": {
   "codemirror_mode": {
    "name": "ipython",
    "version": 3
   },
   "file_extension": ".py",
   "mimetype": "text/x-python",
   "name": "python",
   "nbconvert_exporter": "python",
   "pygments_lexer": "ipython3",
   "version": "3.11.7"
  }
 },
 "nbformat": 4,
 "nbformat_minor": 2
}
